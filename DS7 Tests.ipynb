{
 "cells": [
  {
   "cell_type": "code",
   "execution_count": 2,
   "id": "8f684d73",
   "metadata": {},
   "outputs": [
    {
     "data": {
      "text/html": [
       "<div>\n",
       "<style scoped>\n",
       "    .dataframe tbody tr th:only-of-type {\n",
       "        vertical-align: middle;\n",
       "    }\n",
       "\n",
       "    .dataframe tbody tr th {\n",
       "        vertical-align: top;\n",
       "    }\n",
       "\n",
       "    .dataframe thead th {\n",
       "        text-align: right;\n",
       "    }\n",
       "</style>\n",
       "<table border=\"1\" class=\"dataframe\">\n",
       "  <thead>\n",
       "    <tr style=\"text-align: right;\">\n",
       "      <th></th>\n",
       "      <th>SK_ID_CURR</th>\n",
       "      <th>TARGET</th>\n",
       "      <th>CODE_GENDER</th>\n",
       "      <th>FLAG_OWN_CAR</th>\n",
       "      <th>FLAG_OWN_REALTY</th>\n",
       "      <th>CNT_CHILDREN</th>\n",
       "      <th>AMT_INCOME_TOTAL</th>\n",
       "      <th>AMT_CREDIT</th>\n",
       "      <th>AMT_ANNUITY</th>\n",
       "      <th>AMT_GOODS_PRICE</th>\n",
       "      <th>...</th>\n",
       "      <th>CC_NAME_CONTRACT_STATUS_Signed_MAX</th>\n",
       "      <th>CC_NAME_CONTRACT_STATUS_Signed_MEAN</th>\n",
       "      <th>CC_NAME_CONTRACT_STATUS_Signed_SUM</th>\n",
       "      <th>CC_NAME_CONTRACT_STATUS_Signed_VAR</th>\n",
       "      <th>CC_NAME_CONTRACT_STATUS_nan_MIN</th>\n",
       "      <th>CC_NAME_CONTRACT_STATUS_nan_MAX</th>\n",
       "      <th>CC_NAME_CONTRACT_STATUS_nan_MEAN</th>\n",
       "      <th>CC_NAME_CONTRACT_STATUS_nan_SUM</th>\n",
       "      <th>CC_NAME_CONTRACT_STATUS_nan_VAR</th>\n",
       "      <th>CC_COUNT</th>\n",
       "    </tr>\n",
       "  </thead>\n",
       "  <tbody>\n",
       "    <tr>\n",
       "      <th>0</th>\n",
       "      <td>263934</td>\n",
       "      <td>1</td>\n",
       "      <td>1</td>\n",
       "      <td>0</td>\n",
       "      <td>0</td>\n",
       "      <td>0</td>\n",
       "      <td>112500.0</td>\n",
       "      <td>270000.0</td>\n",
       "      <td>13500.0</td>\n",
       "      <td>270000.0</td>\n",
       "      <td>...</td>\n",
       "      <td>False</td>\n",
       "      <td>0.0</td>\n",
       "      <td>0.0</td>\n",
       "      <td>0.0</td>\n",
       "      <td>False</td>\n",
       "      <td>False</td>\n",
       "      <td>0.0</td>\n",
       "      <td>0.0</td>\n",
       "      <td>0.0</td>\n",
       "      <td>12.0</td>\n",
       "    </tr>\n",
       "    <tr>\n",
       "      <th>1</th>\n",
       "      <td>367366</td>\n",
       "      <td>0</td>\n",
       "      <td>1</td>\n",
       "      <td>0</td>\n",
       "      <td>1</td>\n",
       "      <td>0</td>\n",
       "      <td>45000.0</td>\n",
       "      <td>177903.0</td>\n",
       "      <td>8685.0</td>\n",
       "      <td>148500.0</td>\n",
       "      <td>...</td>\n",
       "      <td>False</td>\n",
       "      <td>0.0</td>\n",
       "      <td>0.0</td>\n",
       "      <td>0.0</td>\n",
       "      <td>False</td>\n",
       "      <td>False</td>\n",
       "      <td>0.0</td>\n",
       "      <td>0.0</td>\n",
       "      <td>0.0</td>\n",
       "      <td>90.0</td>\n",
       "    </tr>\n",
       "    <tr>\n",
       "      <th>2</th>\n",
       "      <td>434796</td>\n",
       "      <td>0</td>\n",
       "      <td>1</td>\n",
       "      <td>0</td>\n",
       "      <td>0</td>\n",
       "      <td>1</td>\n",
       "      <td>130500.0</td>\n",
       "      <td>153000.0</td>\n",
       "      <td>7812.0</td>\n",
       "      <td>153000.0</td>\n",
       "      <td>...</td>\n",
       "      <td>False</td>\n",
       "      <td>0.0</td>\n",
       "      <td>0.0</td>\n",
       "      <td>0.0</td>\n",
       "      <td>False</td>\n",
       "      <td>False</td>\n",
       "      <td>0.0</td>\n",
       "      <td>0.0</td>\n",
       "      <td>0.0</td>\n",
       "      <td>12.0</td>\n",
       "    </tr>\n",
       "  </tbody>\n",
       "</table>\n",
       "<p>3 rows × 805 columns</p>\n",
       "</div>"
      ],
      "text/plain": [
       "   SK_ID_CURR  TARGET  CODE_GENDER  FLAG_OWN_CAR  FLAG_OWN_REALTY  \\\n",
       "0      263934       1            1             0                0   \n",
       "1      367366       0            1             0                1   \n",
       "2      434796       0            1             0                0   \n",
       "\n",
       "   CNT_CHILDREN  AMT_INCOME_TOTAL  AMT_CREDIT  AMT_ANNUITY  AMT_GOODS_PRICE  \\\n",
       "0             0          112500.0    270000.0      13500.0         270000.0   \n",
       "1             0           45000.0    177903.0       8685.0         148500.0   \n",
       "2             1          130500.0    153000.0       7812.0         153000.0   \n",
       "\n",
       "   ...  CC_NAME_CONTRACT_STATUS_Signed_MAX  \\\n",
       "0  ...                               False   \n",
       "1  ...                               False   \n",
       "2  ...                               False   \n",
       "\n",
       "   CC_NAME_CONTRACT_STATUS_Signed_MEAN  CC_NAME_CONTRACT_STATUS_Signed_SUM  \\\n",
       "0                                  0.0                                 0.0   \n",
       "1                                  0.0                                 0.0   \n",
       "2                                  0.0                                 0.0   \n",
       "\n",
       "   CC_NAME_CONTRACT_STATUS_Signed_VAR  CC_NAME_CONTRACT_STATUS_nan_MIN  \\\n",
       "0                                 0.0                            False   \n",
       "1                                 0.0                            False   \n",
       "2                                 0.0                            False   \n",
       "\n",
       "   CC_NAME_CONTRACT_STATUS_nan_MAX  CC_NAME_CONTRACT_STATUS_nan_MEAN  \\\n",
       "0                            False                               0.0   \n",
       "1                            False                               0.0   \n",
       "2                            False                               0.0   \n",
       "\n",
       "   CC_NAME_CONTRACT_STATUS_nan_SUM  CC_NAME_CONTRACT_STATUS_nan_VAR  CC_COUNT  \n",
       "0                              0.0                              0.0      12.0  \n",
       "1                              0.0                              0.0      90.0  \n",
       "2                              0.0                              0.0      12.0  \n",
       "\n",
       "[3 rows x 805 columns]"
      ]
     },
     "execution_count": 2,
     "metadata": {},
     "output_type": "execute_result"
    }
   ],
   "source": [
    "import pandas as pd\n",
    "#import json\n",
    "#import requests\n",
    "#import pickle\n",
    "df = pd.read_csv('dataReduced2.csv')\n",
    "#df = df0.loc[df0['TARGET']!=2]\n",
    "df.head(3)"
   ]
  },
  {
   "cell_type": "code",
   "execution_count": 17,
   "id": "1c54bcc3",
   "metadata": {},
   "outputs": [
    {
     "data": {
      "text/plain": [
       "Int64Index([1], dtype='int64')"
      ]
     },
     "execution_count": 17,
     "metadata": {},
     "output_type": "execute_result"
    }
   ],
   "source": [
    "df.index[df[\"SK_ID_CURR\"] == 367366]"
   ]
  },
  {
   "cell_type": "code",
   "execution_count": 16,
   "id": "394c9b8d",
   "metadata": {},
   "outputs": [
    {
     "data": {
      "text/plain": [
       "(array([1]),)"
      ]
     },
     "execution_count": 16,
     "metadata": {},
     "output_type": "execute_result"
    }
   ],
   "source": [
    "np.where(df[\"SK_ID_CURR\"] == 367366)"
   ]
  },
  {
   "cell_type": "code",
   "execution_count": 9,
   "id": "4e6c6c26",
   "metadata": {},
   "outputs": [
    {
     "data": {
      "text/html": [
       "<div>\n",
       "<style scoped>\n",
       "    .dataframe tbody tr th:only-of-type {\n",
       "        vertical-align: middle;\n",
       "    }\n",
       "\n",
       "    .dataframe tbody tr th {\n",
       "        vertical-align: top;\n",
       "    }\n",
       "\n",
       "    .dataframe thead th {\n",
       "        text-align: right;\n",
       "    }\n",
       "</style>\n",
       "<table border=\"1\" class=\"dataframe\">\n",
       "  <thead>\n",
       "    <tr style=\"text-align: right;\">\n",
       "      <th></th>\n",
       "      <th>SK_ID_CURR</th>\n",
       "      <th>TARGET</th>\n",
       "      <th>CODE_GENDER</th>\n",
       "      <th>FLAG_OWN_CAR</th>\n",
       "      <th>FLAG_OWN_REALTY</th>\n",
       "      <th>CNT_CHILDREN</th>\n",
       "      <th>AMT_INCOME_TOTAL</th>\n",
       "      <th>AMT_CREDIT</th>\n",
       "      <th>AMT_ANNUITY</th>\n",
       "      <th>AMT_GOODS_PRICE</th>\n",
       "      <th>...</th>\n",
       "      <th>CC_NAME_CONTRACT_STATUS_Signed_MAX</th>\n",
       "      <th>CC_NAME_CONTRACT_STATUS_Signed_MEAN</th>\n",
       "      <th>CC_NAME_CONTRACT_STATUS_Signed_SUM</th>\n",
       "      <th>CC_NAME_CONTRACT_STATUS_Signed_VAR</th>\n",
       "      <th>CC_NAME_CONTRACT_STATUS_nan_MIN</th>\n",
       "      <th>CC_NAME_CONTRACT_STATUS_nan_MAX</th>\n",
       "      <th>CC_NAME_CONTRACT_STATUS_nan_MEAN</th>\n",
       "      <th>CC_NAME_CONTRACT_STATUS_nan_SUM</th>\n",
       "      <th>CC_NAME_CONTRACT_STATUS_nan_VAR</th>\n",
       "      <th>CC_COUNT</th>\n",
       "    </tr>\n",
       "  </thead>\n",
       "  <tbody>\n",
       "    <tr>\n",
       "      <th>0</th>\n",
       "      <td>263934</td>\n",
       "      <td>1</td>\n",
       "      <td>1</td>\n",
       "      <td>0</td>\n",
       "      <td>0</td>\n",
       "      <td>0</td>\n",
       "      <td>112500.0</td>\n",
       "      <td>270000.0</td>\n",
       "      <td>13500.0</td>\n",
       "      <td>270000.0</td>\n",
       "      <td>...</td>\n",
       "      <td>False</td>\n",
       "      <td>0.0</td>\n",
       "      <td>0.0</td>\n",
       "      <td>0.0</td>\n",
       "      <td>False</td>\n",
       "      <td>False</td>\n",
       "      <td>0.0</td>\n",
       "      <td>0.0</td>\n",
       "      <td>0.0</td>\n",
       "      <td>12.0</td>\n",
       "    </tr>\n",
       "  </tbody>\n",
       "</table>\n",
       "<p>1 rows × 805 columns</p>\n",
       "</div>"
      ],
      "text/plain": [
       "   SK_ID_CURR  TARGET  CODE_GENDER  FLAG_OWN_CAR  FLAG_OWN_REALTY  \\\n",
       "0      263934       1            1             0                0   \n",
       "\n",
       "   CNT_CHILDREN  AMT_INCOME_TOTAL  AMT_CREDIT  AMT_ANNUITY  AMT_GOODS_PRICE  \\\n",
       "0             0          112500.0    270000.0      13500.0         270000.0   \n",
       "\n",
       "   ...  CC_NAME_CONTRACT_STATUS_Signed_MAX  \\\n",
       "0  ...                               False   \n",
       "\n",
       "   CC_NAME_CONTRACT_STATUS_Signed_MEAN  CC_NAME_CONTRACT_STATUS_Signed_SUM  \\\n",
       "0                                  0.0                                 0.0   \n",
       "\n",
       "   CC_NAME_CONTRACT_STATUS_Signed_VAR  CC_NAME_CONTRACT_STATUS_nan_MIN  \\\n",
       "0                                 0.0                            False   \n",
       "\n",
       "   CC_NAME_CONTRACT_STATUS_nan_MAX  CC_NAME_CONTRACT_STATUS_nan_MEAN  \\\n",
       "0                            False                               0.0   \n",
       "\n",
       "   CC_NAME_CONTRACT_STATUS_nan_SUM  CC_NAME_CONTRACT_STATUS_nan_VAR  CC_COUNT  \n",
       "0                              0.0                              0.0      12.0  \n",
       "\n",
       "[1 rows x 805 columns]"
      ]
     },
     "execution_count": 9,
     "metadata": {},
     "output_type": "execute_result"
    }
   ],
   "source": [
    "dfclient = df.loc[df['SK_ID_CURR'] == 263934]\n",
    "dfclient"
   ]
  },
  {
   "cell_type": "code",
   "execution_count": 11,
   "id": "c30459fd",
   "metadata": {},
   "outputs": [
    {
     "ename": "ValueError",
     "evalue": "at least one array or dtype is required",
     "output_type": "error",
     "traceback": [
      "\u001b[0;31m---------------------------------------------------------------------------\u001b[0m",
      "\u001b[0;31mValueError\u001b[0m                                Traceback (most recent call last)",
      "Cell \u001b[0;32mIn[11], line 2\u001b[0m\n\u001b[1;32m      1\u001b[0m X \u001b[38;5;241m=\u001b[39m pd\u001b[38;5;241m.\u001b[39mjson_normalize(\u001b[38;5;28minput\u001b[39m\u001b[38;5;241m.\u001b[39m\u001b[38;5;18m__dict__\u001b[39m)\n\u001b[0;32m----> 2\u001b[0m probability \u001b[38;5;241m=\u001b[39m \u001b[38;5;28mfloat\u001b[39m(\u001b[43mmodel\u001b[49m\u001b[38;5;241;43m.\u001b[39;49m\u001b[43mpredict_proba\u001b[49m\u001b[43m(\u001b[49m\u001b[43mX\u001b[49m\u001b[43m)\u001b[49m[:, \u001b[38;5;241m1\u001b[39m])\n\u001b[1;32m      3\u001b[0m probability\n",
      "File \u001b[0;32m~/.local/lib/python3.8/site-packages/sklearn/ensemble/_forest.py:850\u001b[0m, in \u001b[0;36mForestClassifier.predict_proba\u001b[0;34m(self, X)\u001b[0m\n\u001b[1;32m    848\u001b[0m check_is_fitted(\u001b[38;5;28mself\u001b[39m)\n\u001b[1;32m    849\u001b[0m \u001b[38;5;66;03m# Check data\u001b[39;00m\n\u001b[0;32m--> 850\u001b[0m X \u001b[38;5;241m=\u001b[39m \u001b[38;5;28;43mself\u001b[39;49m\u001b[38;5;241;43m.\u001b[39;49m\u001b[43m_validate_X_predict\u001b[49m\u001b[43m(\u001b[49m\u001b[43mX\u001b[49m\u001b[43m)\u001b[49m\n\u001b[1;32m    852\u001b[0m \u001b[38;5;66;03m# Assign chunk of trees to jobs\u001b[39;00m\n\u001b[1;32m    853\u001b[0m n_jobs, _, _ \u001b[38;5;241m=\u001b[39m _partition_estimators(\u001b[38;5;28mself\u001b[39m\u001b[38;5;241m.\u001b[39mn_estimators, \u001b[38;5;28mself\u001b[39m\u001b[38;5;241m.\u001b[39mn_jobs)\n",
      "File \u001b[0;32m~/.local/lib/python3.8/site-packages/sklearn/ensemble/_forest.py:579\u001b[0m, in \u001b[0;36mBaseForest._validate_X_predict\u001b[0;34m(self, X)\u001b[0m\n\u001b[1;32m    576\u001b[0m \u001b[38;5;250m\u001b[39m\u001b[38;5;124;03m\"\"\"\u001b[39;00m\n\u001b[1;32m    577\u001b[0m \u001b[38;5;124;03mValidate X whenever one tries to predict, apply, predict_proba.\"\"\"\u001b[39;00m\n\u001b[1;32m    578\u001b[0m check_is_fitted(\u001b[38;5;28mself\u001b[39m)\n\u001b[0;32m--> 579\u001b[0m X \u001b[38;5;241m=\u001b[39m \u001b[38;5;28;43mself\u001b[39;49m\u001b[38;5;241;43m.\u001b[39;49m\u001b[43m_validate_data\u001b[49m\u001b[43m(\u001b[49m\u001b[43mX\u001b[49m\u001b[43m,\u001b[49m\u001b[43m \u001b[49m\u001b[43mdtype\u001b[49m\u001b[38;5;241;43m=\u001b[39;49m\u001b[43mDTYPE\u001b[49m\u001b[43m,\u001b[49m\u001b[43m \u001b[49m\u001b[43maccept_sparse\u001b[49m\u001b[38;5;241;43m=\u001b[39;49m\u001b[38;5;124;43m\"\u001b[39;49m\u001b[38;5;124;43mcsr\u001b[39;49m\u001b[38;5;124;43m\"\u001b[39;49m\u001b[43m,\u001b[49m\u001b[43m \u001b[49m\u001b[43mreset\u001b[49m\u001b[38;5;241;43m=\u001b[39;49m\u001b[38;5;28;43;01mFalse\u001b[39;49;00m\u001b[43m)\u001b[49m\n\u001b[1;32m    580\u001b[0m \u001b[38;5;28;01mif\u001b[39;00m issparse(X) \u001b[38;5;129;01mand\u001b[39;00m (X\u001b[38;5;241m.\u001b[39mindices\u001b[38;5;241m.\u001b[39mdtype \u001b[38;5;241m!=\u001b[39m np\u001b[38;5;241m.\u001b[39mintc \u001b[38;5;129;01mor\u001b[39;00m X\u001b[38;5;241m.\u001b[39mindptr\u001b[38;5;241m.\u001b[39mdtype \u001b[38;5;241m!=\u001b[39m np\u001b[38;5;241m.\u001b[39mintc):\n\u001b[1;32m    581\u001b[0m     \u001b[38;5;28;01mraise\u001b[39;00m \u001b[38;5;167;01mValueError\u001b[39;00m(\u001b[38;5;124m\"\u001b[39m\u001b[38;5;124mNo support for np.int64 index based sparse matrices\u001b[39m\u001b[38;5;124m\"\u001b[39m)\n",
      "File \u001b[0;32m~/.local/lib/python3.8/site-packages/sklearn/base.py:566\u001b[0m, in \u001b[0;36mBaseEstimator._validate_data\u001b[0;34m(self, X, y, reset, validate_separately, **check_params)\u001b[0m\n\u001b[1;32m    564\u001b[0m     \u001b[38;5;28;01mraise\u001b[39;00m \u001b[38;5;167;01mValueError\u001b[39;00m(\u001b[38;5;124m\"\u001b[39m\u001b[38;5;124mValidation should be done on X, y or both.\u001b[39m\u001b[38;5;124m\"\u001b[39m)\n\u001b[1;32m    565\u001b[0m \u001b[38;5;28;01melif\u001b[39;00m \u001b[38;5;129;01mnot\u001b[39;00m no_val_X \u001b[38;5;129;01mand\u001b[39;00m no_val_y:\n\u001b[0;32m--> 566\u001b[0m     X \u001b[38;5;241m=\u001b[39m \u001b[43mcheck_array\u001b[49m\u001b[43m(\u001b[49m\u001b[43mX\u001b[49m\u001b[43m,\u001b[49m\u001b[43m \u001b[49m\u001b[38;5;241;43m*\u001b[39;49m\u001b[38;5;241;43m*\u001b[39;49m\u001b[43mcheck_params\u001b[49m\u001b[43m)\u001b[49m\n\u001b[1;32m    567\u001b[0m     out \u001b[38;5;241m=\u001b[39m X\n\u001b[1;32m    568\u001b[0m \u001b[38;5;28;01melif\u001b[39;00m no_val_X \u001b[38;5;129;01mand\u001b[39;00m \u001b[38;5;129;01mnot\u001b[39;00m no_val_y:\n",
      "File \u001b[0;32m~/.local/lib/python3.8/site-packages/sklearn/utils/validation.py:665\u001b[0m, in \u001b[0;36mcheck_array\u001b[0;34m(array, accept_sparse, accept_large_sparse, dtype, order, copy, force_all_finite, ensure_2d, allow_nd, ensure_min_samples, ensure_min_features, estimator)\u001b[0m\n\u001b[1;32m    662\u001b[0m                     has_pd_integer_array \u001b[38;5;241m=\u001b[39m \u001b[38;5;28;01mTrue\u001b[39;00m\n\u001b[1;32m    664\u001b[0m     \u001b[38;5;28;01mif\u001b[39;00m \u001b[38;5;28mall\u001b[39m(\u001b[38;5;28misinstance\u001b[39m(dtype, np\u001b[38;5;241m.\u001b[39mdtype) \u001b[38;5;28;01mfor\u001b[39;00m dtype \u001b[38;5;129;01min\u001b[39;00m dtypes_orig):\n\u001b[0;32m--> 665\u001b[0m         dtype_orig \u001b[38;5;241m=\u001b[39m \u001b[43mnp\u001b[49m\u001b[38;5;241;43m.\u001b[39;49m\u001b[43mresult_type\u001b[49m\u001b[43m(\u001b[49m\u001b[38;5;241;43m*\u001b[39;49m\u001b[43mdtypes_orig\u001b[49m\u001b[43m)\u001b[49m\n\u001b[1;32m    667\u001b[0m \u001b[38;5;28;01mif\u001b[39;00m dtype_numeric:\n\u001b[1;32m    668\u001b[0m     \u001b[38;5;28;01mif\u001b[39;00m dtype_orig \u001b[38;5;129;01mis\u001b[39;00m \u001b[38;5;129;01mnot\u001b[39;00m \u001b[38;5;28;01mNone\u001b[39;00m \u001b[38;5;129;01mand\u001b[39;00m dtype_orig\u001b[38;5;241m.\u001b[39mkind \u001b[38;5;241m==\u001b[39m \u001b[38;5;124m\"\u001b[39m\u001b[38;5;124mO\u001b[39m\u001b[38;5;124m\"\u001b[39m:\n\u001b[1;32m    669\u001b[0m         \u001b[38;5;66;03m# if input is object, convert to float.\u001b[39;00m\n",
      "File \u001b[0;32m<__array_function__ internals>:180\u001b[0m, in \u001b[0;36mresult_type\u001b[0;34m(*args, **kwargs)\u001b[0m\n",
      "\u001b[0;31mValueError\u001b[0m: at least one array or dtype is required"
     ]
    }
   ],
   "source": [
    "X = pd.json_normalize(input.__dict__)\n",
    "probability = float(model.predict_proba(X)[:, 1])\n",
    "probability"
   ]
  },
  {
   "cell_type": "code",
   "execution_count": 10,
   "id": "e6c91df5",
   "metadata": {},
   "outputs": [
    {
     "name": "stderr",
     "output_type": "stream",
     "text": [
      "/Users/anne/.local/lib/python3.8/site-packages/sklearn/base.py:329: UserWarning: Trying to unpickle estimator DecisionTreeClassifier from version 1.2.2 when using version 1.0.2. This might lead to breaking code or invalid results. Use at your own risk. For more info please refer to:\n",
      "https://scikit-learn.org/stable/modules/model_persistence.html#security-maintainability-limitations\n",
      "  warnings.warn(\n",
      "/Users/anne/.local/lib/python3.8/site-packages/sklearn/base.py:329: UserWarning: Trying to unpickle estimator RandomForestClassifier from version 1.2.2 when using version 1.0.2. This might lead to breaking code or invalid results. Use at your own risk. For more info please refer to:\n",
      "https://scikit-learn.org/stable/modules/model_persistence.html#security-maintainability-limitations\n",
      "  warnings.warn(\n"
     ]
    },
    {
     "data": {
      "text/plain": [
       "array([[0.06929679, 0.93070321]])"
      ]
     },
     "execution_count": 10,
     "metadata": {},
     "output_type": "execute_result"
    }
   ],
   "source": [
    "dfclient = df.loc[df['SK_ID_CURR'] == 263934]\n",
    "    \n",
    "feats = [f for f in df.columns if f not in ['TARGET','SK_ID_CURR','SK_ID_BUREAU','SK_ID_PREV']]\n",
    "X = dfclient[feats].values \n",
    "    \n",
    "model = pickle.load(open('model.pkl', 'rb'))\n",
    "result = model.predict_proba(X)\n",
    "result"
   ]
  },
  {
   "cell_type": "code",
   "execution_count": 12,
   "id": "efb670cf",
   "metadata": {},
   "outputs": [
    {
     "data": {
      "text/plain": [
       "array([0.06929679, 0.93070321])"
      ]
     },
     "execution_count": 12,
     "metadata": {},
     "output_type": "execute_result"
    }
   ],
   "source": [
    "result[0]"
   ]
  },
  {
   "cell_type": "code",
   "execution_count": 5,
   "id": "3e6a9f7b",
   "metadata": {},
   "outputs": [
    {
     "data": {
      "text/plain": [
       "'{\"index\": {\"0\": 8}, \"SK_ID_CURR\": {\"0\": 100011}, \"TARGET\": {\"0\": 0.0}, \"CODE_GENDER\": {\"0\": 1}, \"FLAG_OWN_CAR\": {\"0\": 0}, \"FLAG_OWN_REALTY\": {\"0\": 0}, \"CNT_CHILDREN\": {\"0\": 0}, \"AMT_INCOME_TOTAL\": {\"0\": 112500.0}, \"AMT_CREDIT\": {\"0\": 1019610.0}, \"AMT_ANNUITY\": {\"0\": 33826.5}, \"AMT_GOODS_PRICE\": {\"0\": 913500.0}, \"REGION_POPULATION_RELATIVE\": {\"0\": 0.018634}, \"DAYS_BIRTH\": {\"0\": -20099}, \"DAYS_EMPLOYED\": {\"0\": 365}, \"DAYS_REGISTRATION\": {\"0\": -7427.0}, \"DAYS_ID_PUBLISH\": {\"0\": -3514}, \"OWN_CAR_AGE\": {\"0\": 1.0}, \"FLAG_MOBIL\": {\"0\": 1}, \"FLAG_EMP_PHONE\": {\"0\": 0}, \"FLAG_WORK_PHONE\": {\"0\": 0}, \"FLAG_CONT_MOBILE\": {\"0\": 1}, \"FLAG_PHONE\": {\"0\": 0}, \"FLAG_EMAIL\": {\"0\": 0}, \"CNT_FAM_MEMBERS\": {\"0\": 2.0}, \"REGION_RATING_CLIENT\": {\"0\": 2}, \"REGION_RATING_CLIENT_W_CITY\": {\"0\": 2}, \"HOUR_APPR_PROCESS_START\": {\"0\": 14}, \"REG_REGION_NOT_LIVE_REGION\": {\"0\": 0}, \"REG_REGION_NOT_WORK_REGION\": {\"0\": 0}, \"LIVE_REGION_NOT_WORK_REGION\": {\"0\": 0}, \"REG_CITY_NOT_LIVE_CITY\": {\"0\": 0}, \"REG_CITY_NOT_WORK_CITY\": {\"0\": 0}, \"LIVE_CITY_NOT_WORK_CITY\": {\"0\": 0}, \"EXT_SOURCE_1\": {\"0\": 0.5873340468730377}, \"EXT_SOURCE_2\": {\"0\": 0.2057472880073281}, \"EXT_SOURCE_3\": {\"0\": 0.7517237147741489}, \"APARTMENTS_AVG\": {\"0\": 1.0}, \"BASEMENTAREA_AVG\": {\"0\": 1.0}, \"YEARS_BEGINEXPLUATATION_AVG\": {\"0\": 1.0}, \"YEARS_BUILD_AVG\": {\"0\": 1.0}, \"COMMONAREA_AVG\": {\"0\": 1.0}, \"ELEVATORS_AVG\": {\"0\": 1.0}, \"ENTRANCES_AVG\": {\"0\": 1.0}, \"FLOORSMAX_AVG\": {\"0\": 1.0}, \"FLOORSMIN_AVG\": {\"0\": 1.0}, \"LANDAREA_AVG\": {\"0\": 1.0}, \"LIVINGAPARTMENTS_AVG\": {\"0\": 1.0}, \"LIVINGAREA_AVG\": {\"0\": 1.0}, \"NONLIVINGAPARTMENTS_AVG\": {\"0\": 1.0}, \"NONLIVINGAREA_AVG\": {\"0\": 1.0}, \"APARTMENTS_MODE\": {\"0\": 1.0}, \"BASEMENTAREA_MODE\": {\"0\": 1.0}, \"YEARS_BEGINEXPLUATATION_MODE\": {\"0\": 1.0}, \"YEARS_BUILD_MODE\": {\"0\": 1.0}, \"COMMONAREA_MODE\": {\"0\": 1.0}, \"ELEVATORS_MODE\": {\"0\": 1.0}, \"ENTRANCES_MODE\": {\"0\": 1.0}, \"FLOORSMAX_MODE\": {\"0\": 1.0}, \"FLOORSMIN_MODE\": {\"0\": 1.0}, \"LANDAREA_MODE\": {\"0\": 1.0}, \"LIVINGAPARTMENTS_MODE\": {\"0\": 1.0}, \"LIVINGAREA_MODE\": {\"0\": 1.0}, \"NONLIVINGAPARTMENTS_MODE\": {\"0\": 1.0}, \"NONLIVINGAREA_MODE\": {\"0\": 1.0}, \"APARTMENTS_MEDI\": {\"0\": 1.0}, \"BASEMENTAREA_MEDI\": {\"0\": 1.0}, \"YEARS_BEGINEXPLUATATION_MEDI\": {\"0\": 1.0}, \"YEARS_BUILD_MEDI\": {\"0\": 1.0}, \"COMMONAREA_MEDI\": {\"0\": 1.0}, \"ELEVATORS_MEDI\": {\"0\": 1.0}, \"ENTRANCES_MEDI\": {\"0\": 1.0}, \"FLOORSMAX_MEDI\": {\"0\": 1.0}, \"FLOORSMIN_MEDI\": {\"0\": 1.0}, \"LANDAREA_MEDI\": {\"0\": 1.0}, \"LIVINGAPARTMENTS_MEDI\": {\"0\": 1.0}, \"LIVINGAREA_MEDI\": {\"0\": 1.0}, \"NONLIVINGAPARTMENTS_MEDI\": {\"0\": 1.0}, \"NONLIVINGAREA_MEDI\": {\"0\": 1.0}, \"TOTALAREA_MODE\": {\"0\": 1.0}, \"OBS_30_CNT_SOCIAL_CIRCLE\": {\"0\": 1.0}, \"DEF_30_CNT_SOCIAL_CIRCLE\": {\"0\": 0.0}, \"OBS_60_CNT_SOCIAL_CIRCLE\": {\"0\": 1.0}, \"DEF_60_CNT_SOCIAL_CIRCLE\": {\"0\": 0.0}, \"DAYS_LAST_PHONE_CHANGE\": {\"0\": 0.0}, \"FLAG_DOCUMENT_2\": {\"0\": 0}, \"FLAG_DOCUMENT_3\": {\"0\": 1}, \"FLAG_DOCUMENT_4\": {\"0\": 0}, \"FLAG_DOCUMENT_5\": {\"0\": 0}, \"FLAG_DOCUMENT_6\": {\"0\": 0}, \"FLAG_DOCUMENT_7\": {\"0\": 0}, \"FLAG_DOCUMENT_8\": {\"0\": 0}, \"FLAG_DOCUMENT_9\": {\"0\": 0}, \"FLAG_DOCUMENT_10\": {\"0\": 0}, \"FLAG_DOCUMENT_11\": {\"0\": 0}, \"FLAG_DOCUMENT_12\": {\"0\": 0}, \"FLAG_DOCUMENT_13\": {\"0\": 0}, \"FLAG_DOCUMENT_14\": {\"0\": 0}, \"FLAG_DOCUMENT_15\": {\"0\": 0}, \"FLAG_DOCUMENT_16\": {\"0\": 0}, \"FLAG_DOCUMENT_17\": {\"0\": 0}, \"FLAG_DOCUMENT_18\": {\"0\": 0}, \"FLAG_DOCUMENT_19\": {\"0\": 0}, \"FLAG_DOCUMENT_20\": {\"0\": 0}, \"FLAG_DOCUMENT_21\": {\"0\": 0}, \"AMT_REQ_CREDIT_BUREAU_HOUR\": {\"0\": 0.0}, \"AMT_REQ_CREDIT_BUREAU_DAY\": {\"0\": 0.0}, \"AMT_REQ_CREDIT_BUREAU_WEEK\": {\"0\": 0.0}, \"AMT_REQ_CREDIT_BUREAU_MON\": {\"0\": 0.0}, \"AMT_REQ_CREDIT_BUREAU_QRT\": {\"0\": 0.0}, \"AMT_REQ_CREDIT_BUREAU_YEAR\": {\"0\": 1.0}, \"NAME_CONTRACT_TYPE_Cash loans\": {\"0\": 1}, \"NAME_CONTRACT_TYPE_Revolving loans\": {\"0\": 0}, \"NAME_TYPE_SUITE_1\": {\"0\": 0}, \"NAME_TYPE_SUITE_Children\": {\"0\": 1}, \"NAME_TYPE_SUITE_Family\": {\"0\": 0}, \"NAME_TYPE_SUITE_Group of people\": {\"0\": 0}, \"NAME_TYPE_SUITE_Other_A\": {\"0\": 0}, \"NAME_TYPE_SUITE_Other_B\": {\"0\": 0}, \"NAME_TYPE_SUITE_Spouse, partner\": {\"0\": 0}, \"NAME_TYPE_SUITE_Unaccompanied\": {\"0\": 0}, \"NAME_INCOME_TYPE_Businessman\": {\"0\": 0}, \"NAME_INCOME_TYPE_Commercial associate\": {\"0\": 0}, \"NAME_INCOME_TYPE_Maternity leave\": {\"0\": 0}, \"NAME_INCOME_TYPE_Pensioner\": {\"0\": 1}, \"NAME_INCOME_TYPE_State servant\": {\"0\": 0}, \"NAME_INCOME_TYPE_Student\": {\"0\": 0}, \"NAME_INCOME_TYPE_Unemployed\": {\"0\": 0}, \"NAME_INCOME_TYPE_Working\": {\"0\": 0}, \"NAME_EDUCATION_TYPE_Academic degree\": {\"0\": 0}, \"NAME_EDUCATION_TYPE_Higher education\": {\"0\": 0}, \"NAME_EDUCATION_TYPE_Incomplete higher\": {\"0\": 0}, \"NAME_EDUCATION_TYPE_Lower secondary\": {\"0\": 0}, \"NAME_EDUCATION_TYPE_Secondary / secondary special\": {\"0\": 1}, \"NAME_FAMILY_STATUS_Civil marriage\": {\"0\": 0}, \"NAME_FAMILY_STATUS_Married\": {\"0\": 1}, \"NAME_FAMILY_STATUS_Separated\": {\"0\": 0}, \"NAME_FAMILY_STATUS_Single / not married\": {\"0\": 0}, \"NAME_FAMILY_STATUS_Unknown\": {\"0\": 0}, \"NAME_FAMILY_STATUS_Widow\": {\"0\": 0}, \"NAME_HOUSING_TYPE_Co-op apartment\": {\"0\": 0}, \"NAME_HOUSING_TYPE_House / apartment\": {\"0\": 1}, \"NAME_HOUSING_TYPE_Municipal apartment\": {\"0\": 0}, \"NAME_HOUSING_TYPE_Office apartment\": {\"0\": 0}, \"NAME_HOUSING_TYPE_Rented apartment\": {\"0\": 0}, \"NAME_HOUSING_TYPE_With parents\": {\"0\": 0}, \"OCCUPATION_TYPE_1\": {\"0\": 1}, \"OCCUPATION_TYPE_Accountants\": {\"0\": 0}, \"OCCUPATION_TYPE_Cleaning staff\": {\"0\": 0}, \"OCCUPATION_TYPE_Cooking staff\": {\"0\": 0}, \"OCCUPATION_TYPE_Core staff\": {\"0\": 0}, \"OCCUPATION_TYPE_Drivers\": {\"0\": 0}, \"OCCUPATION_TYPE_HR staff\": {\"0\": 0}, \"OCCUPATION_TYPE_High skill tech staff\": {\"0\": 0}, \"OCCUPATION_TYPE_IT staff\": {\"0\": 0}, \"OCCUPATION_TYPE_Laborers\": {\"0\": 0}, \"OCCUPATION_TYPE_Low-skill Laborers\": {\"0\": 0}, \"OCCUPATION_TYPE_Managers\": {\"0\": 0}, \"OCCUPATION_TYPE_Medicine staff\": {\"0\": 0}, \"OCCUPATION_TYPE_Private service staff\": {\"0\": 0}, \"OCCUPATION_TYPE_Realty agents\": {\"0\": 0}, \"OCCUPATION_TYPE_Sales staff\": {\"0\": 0}, \"OCCUPATION_TYPE_Secretaries\": {\"0\": 0}, \"OCCUPATION_TYPE_Security staff\": {\"0\": 0}, \"OCCUPATION_TYPE_Waiters/barmen staff\": {\"0\": 0}, \"WEEKDAY_APPR_PROCESS_START_FRIDAY\": {\"0\": 0}, \"WEEKDAY_APPR_PROCESS_START_MONDAY\": {\"0\": 0}, \"WEEKDAY_APPR_PROCESS_START_SATURDAY\": {\"0\": 0}, \"WEEKDAY_APPR_PROCESS_START_SUNDAY\": {\"0\": 0}, \"WEEKDAY_APPR_PROCESS_START_THURSDAY\": {\"0\": 0}, \"WEEKDAY_APPR_PROCESS_START_TUESDAY\": {\"0\": 0}, \"WEEKDAY_APPR_PROCESS_START_WEDNESDAY\": {\"0\": 1}, \"ORGANIZATION_TYPE_Advertising\": {\"0\": 0}, \"ORGANIZATION_TYPE_Agriculture\": {\"0\": 0}, \"ORGANIZATION_TYPE_Bank\": {\"0\": 0}, \"ORGANIZATION_TYPE_Business Entity Type 1\": {\"0\": 0}, \"ORGANIZATION_TYPE_Business Entity Type 2\": {\"0\": 0}, \"ORGANIZATION_TYPE_Business Entity Type 3\": {\"0\": 0}, \"ORGANIZATION_TYPE_Cleaning\": {\"0\": 0}, \"ORGANIZATION_TYPE_Construction\": {\"0\": 0}, \"ORGANIZATION_TYPE_Culture\": {\"0\": 0}, \"ORGANIZATION_TYPE_Electricity\": {\"0\": 0}, \"ORGANIZATION_TYPE_Emergency\": {\"0\": 0}, \"ORGANIZATION_TYPE_Government\": {\"0\": 0}, \"ORGANIZATION_TYPE_Hotel\": {\"0\": 0}, \"ORGANIZATION_TYPE_Housing\": {\"0\": 0}, \"ORGANIZATION_TYPE_Industry: type 1\": {\"0\": 0}, \"ORGANIZATION_TYPE_Industry: type 10\": {\"0\": 0}, \"ORGANIZATION_TYPE_Industry: type 11\": {\"0\": 0}, \"ORGANIZATION_TYPE_Industry: type 12\": {\"0\": 0}, \"ORGANIZATION_TYPE_Industry: type 13\": {\"0\": 0}, \"ORGANIZATION_TYPE_Industry: type 2\": {\"0\": 0}, \"ORGANIZATION_TYPE_Industry: type 3\": {\"0\": 0}, \"ORGANIZATION_TYPE_Industry: type 4\": {\"0\": 0}, \"ORGANIZATION_TYPE_Industry: type 5\": {\"0\": 0}, \"ORGANIZATION_TYPE_Industry: type 6\": {\"0\": 0}, \"ORGANIZATION_TYPE_Industry: type 7\": {\"0\": 0}, \"ORGANIZATION_TYPE_Industry: type 8\": {\"0\": 0}, \"ORGANIZATION_TYPE_Industry: type 9\": {\"0\": 0}, \"ORGANIZATION_TYPE_Insurance\": {\"0\": 0}, \"ORGANIZATION_TYPE_Kindergarten\": {\"0\": 0}, \"ORGANIZATION_TYPE_Legal Services\": {\"0\": 0}, \"ORGANIZATION_TYPE_Medicine\": {\"0\": 0}, \"ORGANIZATION_TYPE_Military\": {\"0\": 0}, \"ORGANIZATION_TYPE_Mobile\": {\"0\": 0}, \"ORGANIZATION_TYPE_Other\": {\"0\": 0}, \"ORGANIZATION_TYPE_Police\": {\"0\": 0}, \"ORGANIZATION_TYPE_Postal\": {\"0\": 0}, \"ORGANIZATION_TYPE_Realtor\": {\"0\": 0}, \"ORGANIZATION_TYPE_Religion\": {\"0\": 0}, \"ORGANIZATION_TYPE_Restaurant\": {\"0\": 0}, \"ORGANIZATION_TYPE_School\": {\"0\": 0}, \"ORGANIZATION_TYPE_Security\": {\"0\": 0}, \"ORGANIZATION_TYPE_Security Ministries\": {\"0\": 0}, \"ORGANIZATION_TYPE_Self-employed\": {\"0\": 0}, \"ORGANIZATION_TYPE_Services\": {\"0\": 0}, \"ORGANIZATION_TYPE_Telecom\": {\"0\": 0}, \"ORGANIZATION_TYPE_Trade: type 1\": {\"0\": 0}, \"ORGANIZATION_TYPE_Trade: type 2\": {\"0\": 0}, \"ORGANIZATION_TYPE_Trade: type 3\": {\"0\": 0}, \"ORGANIZATION_TYPE_Trade: type 4\": {\"0\": 0}, \"ORGANIZATION_TYPE_Trade: type 5\": {\"0\": 0}, \"ORGANIZATION_TYPE_Trade: type 6\": {\"0\": 0}, \"ORGANIZATION_TYPE_Trade: type 7\": {\"0\": 0}, \"ORGANIZATION_TYPE_Transport: type 1\": {\"0\": 0}, \"ORGANIZATION_TYPE_Transport: type 2\": {\"0\": 0}, \"ORGANIZATION_TYPE_Transport: type 3\": {\"0\": 0}, \"ORGANIZATION_TYPE_Transport: type 4\": {\"0\": 0}, \"ORGANIZATION_TYPE_University\": {\"0\": 0}, \"ORGANIZATION_TYPE_XNA\": {\"0\": 1}, \"FONDKAPREMONT_MODE_1\": {\"0\": 1}, \"FONDKAPREMONT_MODE_not specified\": {\"0\": 0}, \"FONDKAPREMONT_MODE_org spec account\": {\"0\": 0}, \"FONDKAPREMONT_MODE_reg oper account\": {\"0\": 0}, \"FONDKAPREMONT_MODE_reg oper spec account\": {\"0\": 0}, \"HOUSETYPE_MODE_1\": {\"0\": 1}, \"HOUSETYPE_MODE_block of flats\": {\"0\": 0}, \"HOUSETYPE_MODE_specific housing\": {\"0\": 0}, \"HOUSETYPE_MODE_terraced house\": {\"0\": 0}, \"WALLSMATERIAL_MODE_1\": {\"0\": 1}, \"WALLSMATERIAL_MODE_Block\": {\"0\": 0}, \"WALLSMATERIAL_MODE_Mixed\": {\"0\": 0}, \"WALLSMATERIAL_MODE_Monolithic\": {\"0\": 0}, \"WALLSMATERIAL_MODE_Others\": {\"0\": 0}, \"WALLSMATERIAL_MODE_Panel\": {\"0\": 0}, \"WALLSMATERIAL_MODE_Stone, brick\": {\"0\": 0}, \"WALLSMATERIAL_MODE_Wooden\": {\"0\": 0}, \"EMERGENCYSTATE_MODE_1\": {\"0\": 1}, \"EMERGENCYSTATE_MODE_No\": {\"0\": 0}, \"EMERGENCYSTATE_MODE_Yes\": {\"0\": 0}, \"DAYS_EMPLOYED_PERC\": {\"0\": -0.0181601074680332}, \"INCOME_CREDIT_PERC\": {\"0\": 0.1103363050578162}, \"INCOME_PER_PERSON\": {\"0\": 56250.0}, \"ANNUITY_INCOME_PERC\": {\"0\": 0.30068}, \"PAYMENT_RATE\": {\"0\": 0.0331759202047841}, \"BURO_DAYS_CREDIT_MIN\": {\"0\": -2508.0}, \"BURO_DAYS_CREDIT_MAX\": {\"0\": -1309.0}, \"BURO_DAYS_CREDIT_MEAN\": {\"0\": -1773.0}, \"BURO_DAYS_CREDIT_VAR\": {\"0\": 333418.00000000006}, \"BURO_DAYS_CREDIT_ENDDATE_MIN\": {\"0\": -2173.0}, \"BURO_DAYS_CREDIT_ENDDATE_MAX\": {\"0\": -860.0}, \"BURO_DAYS_CREDIT_ENDDATE_MEAN\": {\"0\": -1293.25}, \"BURO_DAYS_CREDIT_UPDATE_MEAN\": {\"0\": -1454.75}, \"BURO_CREDIT_DAY_OVERDUE_MAX\": {\"0\": 0.0}, \"BURO_CREDIT_DAY_OVERDUE_MEAN\": {\"0\": 0.0}, \"BURO_AMT_CREDIT_MAX_OVERDUE_MEAN\": {\"0\": 2537.3075}, \"BURO_AMT_CREDIT_SUM_MAX\": {\"0\": 145242.0}, \"BURO_AMT_CREDIT_SUM_MEAN\": {\"0\": 108807.075}, \"BURO_AMT_CREDIT_SUM_SUM\": {\"0\": 435228.3}, \"BURO_AMT_CREDIT_SUM_DEBT_MAX\": {\"0\": 1.0}, \"BURO_AMT_CREDIT_SUM_DEBT_MEAN\": {\"0\": 0.25}, \"BURO_AMT_CREDIT_SUM_DEBT_SUM\": {\"0\": 1.0}, \"BURO_AMT_CREDIT_SUM_OVERDUE_MEAN\": {\"0\": 0.0}, \"BURO_AMT_CREDIT_SUM_LIMIT_MEAN\": {\"0\": 0.25}, \"BURO_AMT_CREDIT_SUM_LIMIT_SUM\": {\"0\": 1.0}, \"BURO_AMT_ANNUITY_MAX\": {\"0\": 1.0}, \"BURO_AMT_ANNUITY_MEAN\": {\"0\": 1.0}, \"BURO_CNT_CREDIT_PROLONG_SUM\": {\"0\": 0.0}, \"BURO_MONTHS_BALANCE_MIN_MIN\": {\"0\": 1.0}, \"BURO_MONTHS_BALANCE_MAX_MAX\": {\"0\": 1.0}, \"BURO_MONTHS_BALANCE_SIZE_MEAN\": {\"0\": 1.0}, \"BURO_MONTHS_BALANCE_SIZE_SUM\": {\"0\": 0.0}, \"BURO_CREDIT_ACTIVE_Active_MEAN\": {\"0\": 0.0}, \"BURO_CREDIT_ACTIVE_Bad debt_MEAN\": {\"0\": 0.0}, \"BURO_CREDIT_ACTIVE_Closed_MEAN\": {\"0\": 1.0}, \"BURO_CREDIT_ACTIVE_Sold_MEAN\": {\"0\": 0.0}, \"BURO_CREDIT_ACTIVE_nan_MEAN\": {\"0\": 0.0}, \"BURO_CREDIT_CURRENCY_currency 1_MEAN\": {\"0\": 1.0}, \"BURO_CREDIT_CURRENCY_currency 2_MEAN\": {\"0\": 0.0}, \"BURO_CREDIT_CURRENCY_currency 3_MEAN\": {\"0\": 0.0}, \"BURO_CREDIT_CURRENCY_currency 4_MEAN\": {\"0\": 0.0}, \"BURO_CREDIT_CURRENCY_nan_MEAN\": {\"0\": 0.0}, \"BURO_CREDIT_TYPE_Another type of loan_MEAN\": {\"0\": 0.0}, \"BURO_CREDIT_TYPE_Car loan_MEAN\": {\"0\": 0.0}, \"BURO_CREDIT_TYPE_Cash loan (non-earmarked)_MEAN\": {\"0\": 0.0}, \"BURO_CREDIT_TYPE_Consumer credit_MEAN\": {\"0\": 0.75}, \"BURO_CREDIT_TYPE_Credit card_MEAN\": {\"0\": 0.25}, \"BURO_CREDIT_TYPE_Interbank credit_MEAN\": {\"0\": 0.0}, \"BURO_CREDIT_TYPE_Loan for business development_MEAN\": {\"0\": 0.0}, \"BURO_CREDIT_TYPE_Loan for purchase of shares (margin lending)_MEAN\": {\"0\": 0.0}, \"BURO_CREDIT_TYPE_Loan for the purchase of equipment_MEAN\": {\"0\": 0.0}, \"BURO_CREDIT_TYPE_Loan for working capital replenishment_MEAN\": {\"0\": 0.0}, \"BURO_CREDIT_TYPE_Microloan_MEAN\": {\"0\": 0.0}, \"BURO_CREDIT_TYPE_Mobile operator loan_MEAN\": {\"0\": 0.0}, \"BURO_CREDIT_TYPE_Mortgage_MEAN\": {\"0\": 0.0}, \"BURO_CREDIT_TYPE_Real estate loan_MEAN\": {\"0\": 0.0}, \"BURO_CREDIT_TYPE_Unknown type of loan_MEAN\": {\"0\": 0.0}, \"BURO_CREDIT_TYPE_nan_MEAN\": {\"0\": 0.0}, \"BURO_STATUS_0_MEAN_MEAN\": {\"0\": 1.0}, \"BURO_STATUS_1_MEAN_MEAN\": {\"0\": 1.0}, \"BURO_STATUS_2_MEAN_MEAN\": {\"0\": 1.0}, \"BURO_STATUS_3_MEAN_MEAN\": {\"0\": 1.0}, \"BURO_STATUS_4_MEAN_MEAN\": {\"0\": 1.0}, \"BURO_STATUS_5_MEAN_MEAN\": {\"0\": 1.0}, \"BURO_STATUS_C_MEAN_MEAN\": {\"0\": 1.0}, \"BURO_STATUS_X_MEAN_MEAN\": {\"0\": 1.0}, \"BURO_STATUS_nan_MEAN_MEAN\": {\"0\": 1.0}, \"ACTIVE_DAYS_CREDIT_MIN\": {\"0\": 1.0}, \"ACTIVE_DAYS_CREDIT_MAX\": {\"0\": 1.0}, \"ACTIVE_DAYS_CREDIT_MEAN\": {\"0\": 1.0}, \"ACTIVE_DAYS_CREDIT_VAR\": {\"0\": 1.0}, \"ACTIVE_DAYS_CREDIT_ENDDATE_MIN\": {\"0\": 1.0}, \"ACTIVE_DAYS_CREDIT_ENDDATE_MAX\": {\"0\": 1.0}, \"ACTIVE_DAYS_CREDIT_ENDDATE_MEAN\": {\"0\": 1.0}, \"ACTIVE_DAYS_CREDIT_UPDATE_MEAN\": {\"0\": 1.0}, \"ACTIVE_CREDIT_DAY_OVERDUE_MAX\": {\"0\": 1.0}, \"ACTIVE_CREDIT_DAY_OVERDUE_MEAN\": {\"0\": 1.0}, \"ACTIVE_AMT_CREDIT_MAX_OVERDUE_MEAN\": {\"0\": 1.0}, \"ACTIVE_AMT_CREDIT_SUM_MAX\": {\"0\": 1.0}, \"ACTIVE_AMT_CREDIT_SUM_MEAN\": {\"0\": 1.0}, \"ACTIVE_AMT_CREDIT_SUM_SUM\": {\"0\": 1.0}, \"ACTIVE_AMT_CREDIT_SUM_DEBT_MAX\": {\"0\": 1.0}, \"ACTIVE_AMT_CREDIT_SUM_DEBT_MEAN\": {\"0\": 1.0}, \"ACTIVE_AMT_CREDIT_SUM_DEBT_SUM\": {\"0\": 1.0}, \"ACTIVE_AMT_CREDIT_SUM_OVERDUE_MEAN\": {\"0\": 1.0}, \"ACTIVE_AMT_CREDIT_SUM_LIMIT_MEAN\": {\"0\": 1.0}, \"ACTIVE_AMT_CREDIT_SUM_LIMIT_SUM\": {\"0\": 1.0}, \"ACTIVE_AMT_ANNUITY_MAX\": {\"0\": 1.0}, \"ACTIVE_AMT_ANNUITY_MEAN\": {\"0\": 1.0}, \"ACTIVE_CNT_CREDIT_PROLONG_SUM\": {\"0\": 1.0}, \"ACTIVE_MONTHS_BALANCE_MIN_MIN\": {\"0\": 1.0}, \"ACTIVE_MONTHS_BALANCE_MAX_MAX\": {\"0\": 1.0}, \"ACTIVE_MONTHS_BALANCE_SIZE_MEAN\": {\"0\": 1.0}, \"ACTIVE_MONTHS_BALANCE_SIZE_SUM\": {\"0\": 1.0}, \"CLOSED_DAYS_CREDIT_MIN\": {\"0\": -2508.0}, \"CLOSED_DAYS_CREDIT_MAX\": {\"0\": -1309.0}, \"CLOSED_DAYS_CREDIT_MEAN\": {\"0\": -1773.0}, \"CLOSED_DAYS_CREDIT_VAR\": {\"0\": 333418.00000000006}, \"CLOSED_DAYS_CREDIT_ENDDATE_MIN\": {\"0\": -2173.0}, \"CLOSED_DAYS_CREDIT_ENDDATE_MAX\": {\"0\": -860.0}, \"CLOSED_DAYS_CREDIT_ENDDATE_MEAN\": {\"0\": -1293.25}, \"CLOSED_DAYS_CREDIT_UPDATE_MEAN\": {\"0\": -1454.75}, \"CLOSED_CREDIT_DAY_OVERDUE_MAX\": {\"0\": 0.0}, \"CLOSED_CREDIT_DAY_OVERDUE_MEAN\": {\"0\": 0.0}, \"CLOSED_AMT_CREDIT_MAX_OVERDUE_MEAN\": {\"0\": 2537.3075}, \"CLOSED_AMT_CREDIT_SUM_MAX\": {\"0\": 145242.0}, \"CLOSED_AMT_CREDIT_SUM_MEAN\": {\"0\": 108807.075}, \"CLOSED_AMT_CREDIT_SUM_SUM\": {\"0\": 435228.3}, \"CLOSED_AMT_CREDIT_SUM_DEBT_MAX\": {\"0\": 1.0}, \"CLOSED_AMT_CREDIT_SUM_DEBT_MEAN\": {\"0\": 0.25}, \"CLOSED_AMT_CREDIT_SUM_DEBT_SUM\": {\"0\": 1.0}, \"CLOSED_AMT_CREDIT_SUM_OVERDUE_MEAN\": {\"0\": 0.0}, \"CLOSED_AMT_CREDIT_SUM_LIMIT_MEAN\": {\"0\": 0.25}, \"CLOSED_AMT_CREDIT_SUM_LIMIT_SUM\": {\"0\": 1.0}, \"CLOSED_AMT_ANNUITY_MAX\": {\"0\": 1.0}, \"CLOSED_AMT_ANNUITY_MEAN\": {\"0\": 1.0}, \"CLOSED_CNT_CREDIT_PROLONG_SUM\": {\"0\": 0.0}, \"CLOSED_MONTHS_BALANCE_MIN_MIN\": {\"0\": 1.0}, \"CLOSED_MONTHS_BALANCE_MAX_MAX\": {\"0\": 1.0}, \"CLOSED_MONTHS_BALANCE_SIZE_MEAN\": {\"0\": 1.0}, \"CLOSED_MONTHS_BALANCE_SIZE_SUM\": {\"0\": 0.0}, \"PREV_AMT_ANNUITY_MIN\": {\"0\": 1.0}, \"PREV_AMT_ANNUITY_MAX\": {\"0\": 31295.25}, \"PREV_AMT_ANNUITY_MEAN\": {\"0\": 13727.64625}, \"PREV_AMT_APPLICATION_MIN\": {\"0\": 0.0}, \"PREV_AMT_APPLICATION_MAX\": {\"0\": 675000.0}, \"PREV_AMT_APPLICATION_MEAN\": {\"0\": 202732.875}, \"PREV_AMT_CREDIT_MIN\": {\"0\": 0.0}, \"PREV_AMT_CREDIT_MAX\": {\"0\": 732915.0}, \"PREV_AMT_CREDIT_MEAN\": {\"0\": 261840.375}, \"PREV_APP_CREDIT_PERC_MIN\": {\"0\": 0.0}, \"PREV_APP_CREDIT_PERC_MAX\": {\"0\": 1.0110452856712522}, \"PREV_APP_CREDIT_PERC_MEAN\": {\"0\": 0.6440084027696462}, \"PREV_APP_CREDIT_PERC_VAR\": {\"0\": 0.3130880595330251}, \"PREV_AMT_DOWN_PAYMENT_MIN\": {\"0\": 0.0}, \"PREV_AMT_DOWN_PAYMENT_MAX\": {\"0\": 13594.5}, \"PREV_AMT_DOWN_PAYMENT_MEAN\": {\"0\": 3399.125}, \"PREV_AMT_GOODS_PRICE_MIN\": {\"0\": 0.0}, \"PREV_AMT_GOODS_PRICE_MAX\": {\"0\": 675000.0}, \"PREV_AMT_GOODS_PRICE_MEAN\": {\"0\": 202733.125}, \"PREV_HOUR_APPR_PROCESS_START_MIN\": {\"0\": 9.0}, \"PREV_HOUR_APPR_PROCESS_START_MAX\": {\"0\": 17.0}, \"PREV_HOUR_APPR_PROCESS_START_MEAN\": {\"0\": 11.75}, \"PREV_RATE_DOWN_PAYMENT_MIN\": {\"0\": 0.0}, \"PREV_RATE_DOWN_PAYMENT_MAX\": {\"0\": 1.0}, \"PREV_RATE_DOWN_PAYMENT_MEAN\": {\"0\": 0.525002611377315}, \"PREV_DAYS_DECISION_MIN\": {\"0\": -2508.0}, \"PREV_DAYS_DECISION_MAX\": {\"0\": -1162.0}, \"PREV_DAYS_DECISION_MEAN\": {\"0\": -1784.5}, \"PREV_CNT_PAYMENT_MEAN\": {\"0\": 10.75}, \"PREV_CNT_PAYMENT_SUM\": {\"0\": 43.0}, \"PREV_NAME_CONTRACT_TYPE_Cash loans_MEAN\": {\"0\": 0.5}, \"PREV_NAME_CONTRACT_TYPE_Consumer loans_MEAN\": {\"0\": 0.25}, \"PREV_NAME_CONTRACT_TYPE_Revolving loans_MEAN\": {\"0\": 0.25}, \"PREV_NAME_CONTRACT_TYPE_XNA_MEAN\": {\"0\": 0.0}, \"PREV_NAME_CONTRACT_TYPE_nan_MEAN\": {\"0\": 0.0}, \"PREV_WEEKDAY_APPR_PROCESS_START_FRIDAY_MEAN\": {\"0\": 0.0}, \"PREV_WEEKDAY_APPR_PROCESS_START_MONDAY_MEAN\": {\"0\": 0.25}, \"PREV_WEEKDAY_APPR_PROCESS_START_SATURDAY_MEAN\": {\"0\": 0.25}, \"PREV_WEEKDAY_APPR_PROCESS_START_SUNDAY_MEAN\": {\"0\": 0.0}, \"PREV_WEEKDAY_APPR_PROCESS_START_THURSDAY_MEAN\": {\"0\": 0.25}, \"PREV_WEEKDAY_APPR_PROCESS_START_TUESDAY_MEAN\": {\"0\": 0.0}, \"PREV_WEEKDAY_APPR_PROCESS_START_WEDNESDAY_MEAN\": {\"0\": 0.25}, \"PREV_WEEKDAY_APPR_PROCESS_START_nan_MEAN\": {\"0\": 0.0}, \"PREV_FLAG_LAST_APPL_PER_CONTRACT_N_MEAN\": {\"0\": 0.0}, \"PREV_FLAG_LAST_APPL_PER_CONTRACT_Y_MEAN\": {\"0\": 1.0}, \"PREV_FLAG_LAST_APPL_PER_CONTRACT_nan_MEAN\": {\"0\": 0.0}, \"PREV_NAME_CASH_LOAN_PURPOSE_Building a house or an annex_MEAN\": {\"0\": 0.0}, \"PREV_NAME_CASH_LOAN_PURPOSE_Business development_MEAN\": {\"0\": 0.0}, \"PREV_NAME_CASH_LOAN_PURPOSE_Buying a garage_MEAN\": {\"0\": 0.0}, \"PREV_NAME_CASH_LOAN_PURPOSE_Buying a holiday home / land_MEAN\": {\"0\": 0.0}, \"PREV_NAME_CASH_LOAN_PURPOSE_Buying a home_MEAN\": {\"0\": 0.0}, \"PREV_NAME_CASH_LOAN_PURPOSE_Buying a new car_MEAN\": {\"0\": 0.0}, \"PREV_NAME_CASH_LOAN_PURPOSE_Buying a used car_MEAN\": {\"0\": 0.0}, \"PREV_NAME_CASH_LOAN_PURPOSE_Car repairs_MEAN\": {\"0\": 0.0}, \"PREV_NAME_CASH_LOAN_PURPOSE_Education_MEAN\": {\"0\": 0.0}, \"PREV_NAME_CASH_LOAN_PURPOSE_Everyday expenses_MEAN\": {\"0\": 0.0}, \"PREV_NAME_CASH_LOAN_PURPOSE_Furniture_MEAN\": {\"0\": 0.0}, \"PREV_NAME_CASH_LOAN_PURPOSE_Gasification / water supply_MEAN\": {\"0\": 0.0}, \"PREV_NAME_CASH_LOAN_PURPOSE_Hobby_MEAN\": {\"0\": 0.0}, \"PREV_NAME_CASH_LOAN_PURPOSE_Journey_MEAN\": {\"0\": 0.0}, \"PREV_NAME_CASH_LOAN_PURPOSE_Medicine_MEAN\": {\"0\": 0.0}, \"PREV_NAME_CASH_LOAN_PURPOSE_Money for a third person_MEAN\": {\"0\": 0.0}, \"PREV_NAME_CASH_LOAN_PURPOSE_Other_MEAN\": {\"0\": 0.0}, \"PREV_NAME_CASH_LOAN_PURPOSE_Payments on other loans_MEAN\": {\"0\": 0.0}, \"PREV_NAME_CASH_LOAN_PURPOSE_Purchase of electronic equipment_MEAN\": {\"0\": 0.0}, \"PREV_NAME_CASH_LOAN_PURPOSE_Refusal to name the goal_MEAN\": {\"0\": 0.0}, \"PREV_NAME_CASH_LOAN_PURPOSE_Repairs_MEAN\": {\"0\": 0.0}, \"PREV_NAME_CASH_LOAN_PURPOSE_Urgent needs_MEAN\": {\"0\": 0.0}, \"PREV_NAME_CASH_LOAN_PURPOSE_Wedding / gift / holiday_MEAN\": {\"0\": 0.0}, \"PREV_NAME_CASH_LOAN_PURPOSE_XAP_MEAN\": {\"0\": 0.5}, \"PREV_NAME_CASH_LOAN_PURPOSE_XNA_MEAN\": {\"0\": 0.5}, \"PREV_NAME_CASH_LOAN_PURPOSE_nan_MEAN\": {\"0\": 0.0}, \"PREV_NAME_CONTRACT_STATUS_Approved_MEAN\": {\"0\": 0.75}, \"PREV_NAME_CONTRACT_STATUS_Canceled_MEAN\": {\"0\": 0.0}, \"PREV_NAME_CONTRACT_STATUS_Refused_MEAN\": {\"0\": 0.25}, \"PREV_NAME_CONTRACT_STATUS_Unused offer_MEAN\": {\"0\": 0.0}, \"PREV_NAME_CONTRACT_STATUS_nan_MEAN\": {\"0\": 0.0}, \"PREV_NAME_PAYMENT_TYPE_Cash through the bank_MEAN\": {\"0\": 0.75}, \"PREV_NAME_PAYMENT_TYPE_Cashless from the account of the employer_MEAN\": {\"0\": 0.0}, \"PREV_NAME_PAYMENT_TYPE_Non-cash from your account_MEAN\": {\"0\": 0.0}, \"PREV_NAME_PAYMENT_TYPE_XNA_MEAN\": {\"0\": 0.25}, \"PREV_NAME_PAYMENT_TYPE_nan_MEAN\": {\"0\": 0.0}, \"PREV_CODE_REJECT_REASON_CLIENT_MEAN\": {\"0\": 0.0}, \"PREV_CODE_REJECT_REASON_HC_MEAN\": {\"0\": 0.0}, \"PREV_CODE_REJECT_REASON_LIMIT_MEAN\": {\"0\": 0.25}, \"PREV_CODE_REJECT_REASON_SCO_MEAN\": {\"0\": 0.0}, \"PREV_CODE_REJECT_REASON_SCOFR_MEAN\": {\"0\": 0.0}, \"PREV_CODE_REJECT_REASON_SYSTEM_MEAN\": {\"0\": 0.0}, \"PREV_CODE_REJECT_REASON_VERIF_MEAN\": {\"0\": 0.0}, \"PREV_CODE_REJECT_REASON_XAP_MEAN\": {\"0\": 0.75}, \"PREV_CODE_REJECT_REASON_XNA_MEAN\": {\"0\": 0.0}, \"PREV_CODE_REJECT_REASON_nan_MEAN\": {\"0\": 0.0}, \"PREV_NAME_TYPE_SUITE_1_MEAN\": {\"0\": 0.25}, \"PREV_NAME_TYPE_SUITE_Children_MEAN\": {\"0\": 0.25}, \"PREV_NAME_TYPE_SUITE_Family_MEAN\": {\"0\": 0.0}, \"PREV_NAME_TYPE_SUITE_Group of people_MEAN\": {\"0\": 0.0}, \"PREV_NAME_TYPE_SUITE_Other_A_MEAN\": {\"0\": 0.0}, \"PREV_NAME_TYPE_SUITE_Other_B_MEAN\": {\"0\": 0.0}, \"PREV_NAME_TYPE_SUITE_Spouse, partner_MEAN\": {\"0\": 0.0}, \"PREV_NAME_TYPE_SUITE_Unaccompanied_MEAN\": {\"0\": 0.5}, \"PREV_NAME_TYPE_SUITE_nan_MEAN\": {\"0\": 0.0}, \"PREV_NAME_CLIENT_TYPE_New_MEAN\": {\"0\": 0.25}, \"PREV_NAME_CLIENT_TYPE_Refreshed_MEAN\": {\"0\": 0.0}, \"PREV_NAME_CLIENT_TYPE_Repeater_MEAN\": {\"0\": 0.75}, \"PREV_NAME_CLIENT_TYPE_XNA_MEAN\": {\"0\": 0.0}, \"PREV_NAME_CLIENT_TYPE_nan_MEAN\": {\"0\": 0.0}, \"PREV_NAME_GOODS_CATEGORY_Additional Service_MEAN\": {\"0\": 0.0}, \"PREV_NAME_GOODS_CATEGORY_Animals_MEAN\": {\"0\": 0.0}, \"PREV_NAME_GOODS_CATEGORY_Audio/Video_MEAN\": {\"0\": 0.0}, \"PREV_NAME_GOODS_CATEGORY_Auto Accessories_MEAN\": {\"0\": 0.0}, \"PREV_NAME_GOODS_CATEGORY_Clothing and Accessories_MEAN\": {\"0\": 0.0}, \"PREV_NAME_GOODS_CATEGORY_Computers_MEAN\": {\"0\": 0.25}, \"PREV_NAME_GOODS_CATEGORY_Construction Materials_MEAN\": {\"0\": 0.0}, \"PREV_NAME_GOODS_CATEGORY_Consumer Electronics_MEAN\": {\"0\": 0.0}, \"PREV_NAME_GOODS_CATEGORY_Direct Sales_MEAN\": {\"0\": 0.0}, \"PREV_NAME_GOODS_CATEGORY_Education_MEAN\": {\"0\": 0.0}, \"PREV_NAME_GOODS_CATEGORY_Fitness_MEAN\": {\"0\": 0.0}, \"PREV_NAME_GOODS_CATEGORY_Furniture_MEAN\": {\"0\": 0.0}, \"PREV_NAME_GOODS_CATEGORY_Gardening_MEAN\": {\"0\": 0.0}, \"PREV_NAME_GOODS_CATEGORY_Homewares_MEAN\": {\"0\": 0.0}, \"PREV_NAME_GOODS_CATEGORY_House Construction_MEAN\": {\"0\": 0.0}, \"PREV_NAME_GOODS_CATEGORY_Insurance_MEAN\": {\"0\": 0.0}, \"PREV_NAME_GOODS_CATEGORY_Jewelry_MEAN\": {\"0\": 0.0}, \"PREV_NAME_GOODS_CATEGORY_Medical Supplies_MEAN\": {\"0\": 0.0}, \"PREV_NAME_GOODS_CATEGORY_Medicine_MEAN\": {\"0\": 0.0}, \"PREV_NAME_GOODS_CATEGORY_Mobile_MEAN\": {\"0\": 0.0}, \"PREV_NAME_GOODS_CATEGORY_Office Appliances_MEAN\": {\"0\": 0.0}, \"PREV_NAME_GOODS_CATEGORY_Other_MEAN\": {\"0\": 0.0}, \"PREV_NAME_GOODS_CATEGORY_Photo / Cinema Equipment_MEAN\": {\"0\": 0.0}, \"PREV_NAME_GOODS_CATEGORY_Sport and Leisure_MEAN\": {\"0\": 0.0}, \"PREV_NAME_GOODS_CATEGORY_Tourism_MEAN\": {\"0\": 0.0}, \"PREV_NAME_GOODS_CATEGORY_Vehicles_MEAN\": {\"0\": 0.0}, \"PREV_NAME_GOODS_CATEGORY_Weapon_MEAN\": {\"0\": 0.0}, \"PREV_NAME_GOODS_CATEGORY_XNA_MEAN\": {\"0\": 0.75}, \"PREV_NAME_GOODS_CATEGORY_nan_MEAN\": {\"0\": 0.0}, \"PREV_NAME_PORTFOLIO_Cards_MEAN\": {\"0\": 0.25}, \"PREV_NAME_PORTFOLIO_Cars_MEAN\": {\"0\": 0.0}, \"PREV_NAME_PORTFOLIO_Cash_MEAN\": {\"0\": 0.25}, \"PREV_NAME_PORTFOLIO_POS_MEAN\": {\"0\": 0.25}, \"PREV_NAME_PORTFOLIO_XNA_MEAN\": {\"0\": 0.25}, \"PREV_NAME_PORTFOLIO_nan_MEAN\": {\"0\": 0.0}, \"PREV_NAME_PRODUCT_TYPE_XNA_MEAN\": {\"0\": 0.5}, \"PREV_NAME_PRODUCT_TYPE_walk-in_MEAN\": {\"0\": 0.25}, \"PREV_NAME_PRODUCT_TYPE_x-sell_MEAN\": {\"0\": 0.25}, \"PREV_NAME_PRODUCT_TYPE_nan_MEAN\": {\"0\": 0.0}, \"PREV_CHANNEL_TYPE_AP+ (Cash loan)_MEAN\": {\"0\": 0.0}, \"PREV_CHANNEL_TYPE_Car dealer_MEAN\": {\"0\": 0.0}, \"PREV_CHANNEL_TYPE_Channel of corporate sales_MEAN\": {\"0\": 0.0}, \"PREV_CHANNEL_TYPE_Contact center_MEAN\": {\"0\": 0.25}, \"PREV_CHANNEL_TYPE_Country-wide_MEAN\": {\"0\": 0.25}, \"PREV_CHANNEL_TYPE_Credit and cash offices_MEAN\": {\"0\": 0.5}, \"PREV_CHANNEL_TYPE_Regional / Local_MEAN\": {\"0\": 0.0}, \"PREV_CHANNEL_TYPE_Stone_MEAN\": {\"0\": 0.0}, \"PREV_CHANNEL_TYPE_nan_MEAN\": {\"0\": 0.0}, \"PREV_NAME_SELLER_INDUSTRY_Auto technology_MEAN\": {\"0\": 0.0}, \"PREV_NAME_SELLER_INDUSTRY_Clothing_MEAN\": {\"0\": 0.0}, \"PREV_NAME_SELLER_INDUSTRY_Connectivity_MEAN\": {\"0\": 0.0}, \"PREV_NAME_SELLER_INDUSTRY_Construction_MEAN\": {\"0\": 0.0}, \"PREV_NAME_SELLER_INDUSTRY_Consumer electronics_MEAN\": {\"0\": 0.25}, \"PREV_NAME_SELLER_INDUSTRY_Furniture_MEAN\": {\"0\": 0.0}, \"PREV_NAME_SELLER_INDUSTRY_Industry_MEAN\": {\"0\": 0.0}, \"PREV_NAME_SELLER_INDUSTRY_Jewelry_MEAN\": {\"0\": 0.0}, \"PREV_NAME_SELLER_INDUSTRY_MLM partners_MEAN\": {\"0\": 0.0}, \"PREV_NAME_SELLER_INDUSTRY_Tourism_MEAN\": {\"0\": 0.0}, \"PREV_NAME_SELLER_INDUSTRY_XNA_MEAN\": {\"0\": 0.75}, \"PREV_NAME_SELLER_INDUSTRY_nan_MEAN\": {\"0\": 0.0}, \"PREV_NAME_YIELD_GROUP_XNA_MEAN\": {\"0\": 0.5}, \"PREV_NAME_YIELD_GROUP_high_MEAN\": {\"0\": 0.25}, \"PREV_NAME_YIELD_GROUP_low_action_MEAN\": {\"0\": 0.25}, \"PREV_NAME_YIELD_GROUP_low_normal_MEAN\": {\"0\": 0.0}, \"PREV_NAME_YIELD_GROUP_middle_MEAN\": {\"0\": 0.0}, \"PREV_NAME_YIELD_GROUP_nan_MEAN\": {\"0\": 0.0}, \"PREV_PRODUCT_COMBINATION_1_MEAN\": {\"0\": 0.0}, \"PREV_PRODUCT_COMBINATION_Card Street_MEAN\": {\"0\": 0.0}, \"PREV_PRODUCT_COMBINATION_Card X-Sell_MEAN\": {\"0\": 0.25}, \"PREV_PRODUCT_COMBINATION_Cash_MEAN\": {\"0\": 0.25}, \"PREV_PRODUCT_COMBINATION_Cash Street: high_MEAN\": {\"0\": 0.0}, \"PREV_PRODUCT_COMBINATION_Cash Street: low_MEAN\": {\"0\": 0.25}, \"PREV_PRODUCT_COMBINATION_Cash Street: middle_MEAN\": {\"0\": 0.0}, \"PREV_PRODUCT_COMBINATION_Cash X-Sell: high_MEAN\": {\"0\": 0.0}, \"PREV_PRODUCT_COMBINATION_Cash X-Sell: low_MEAN\": {\"0\": 0.0}, \"PREV_PRODUCT_COMBINATION_Cash X-Sell: middle_MEAN\": {\"0\": 0.0}, \"PREV_PRODUCT_COMBINATION_POS household with interest_MEAN\": {\"0\": 0.25}, \"PREV_PRODUCT_COMBINATION_POS household without interest_MEAN\": {\"0\": 0.0}, \"PREV_PRODUCT_COMBINATION_POS industry with interest_MEAN\": {\"0\": 0.0}, \"PREV_PRODUCT_COMBINATION_POS industry without interest_MEAN\": {\"0\": 0.0}, \"PREV_PRODUCT_COMBINATION_POS mobile with interest_MEAN\": {\"0\": 0.0}, \"PREV_PRODUCT_COMBINATION_POS mobile without interest_MEAN\": {\"0\": 0.0}, \"PREV_PRODUCT_COMBINATION_POS other with interest_MEAN\": {\"0\": 0.0}, \"PREV_PRODUCT_COMBINATION_POS others without interest_MEAN\": {\"0\": 0.0}, \"PREV_PRODUCT_COMBINATION_nan_MEAN\": {\"0\": 0.0}, \"APPROVED_AMT_ANNUITY_MIN\": {\"0\": 9000.0}, \"APPROVED_AMT_ANNUITY_MAX\": {\"0\": 31295.25}, \"APPROVED_AMT_ANNUITY_MEAN\": {\"0\": 18303.195}, \"APPROVED_AMT_APPLICATION_MIN\": {\"0\": 0.0}, \"APPROVED_AMT_APPLICATION_MAX\": {\"0\": 675000.0}, \"APPROVED_AMT_APPLICATION_MEAN\": {\"0\": 270310.5}, \"APPROVED_AMT_CREDIT_MIN\": {\"0\": 134446.5}, \"APPROVED_AMT_CREDIT_MAX\": {\"0\": 732915.0}, \"APPROVED_AMT_CREDIT_MEAN\": {\"0\": 349120.5}, \"APPROVED_APP_CREDIT_PERC_MIN\": {\"0\": 0.0}, \"APPROVED_APP_CREDIT_PERC_MAX\": {\"0\": 1.0110452856712522}, \"APPROVED_APP_CREDIT_PERC_MEAN\": {\"0\": 0.6440084027696462}, \"APPROVED_APP_CREDIT_PERC_VAR\": {\"0\": 0.3130880595330251}, \"APPROVED_AMT_DOWN_PAYMENT_MIN\": {\"0\": 0.0}, \"APPROVED_AMT_DOWN_PAYMENT_MAX\": {\"0\": 13594.5}, \"APPROVED_AMT_DOWN_PAYMENT_MEAN\": {\"0\": 4531.833333333333}, \"APPROVED_AMT_GOODS_PRICE_MIN\": {\"0\": 1.0}, \"APPROVED_AMT_GOODS_PRICE_MAX\": {\"0\": 675000.0}, \"APPROVED_AMT_GOODS_PRICE_MEAN\": {\"0\": 270310.8333333333}, \"APPROVED_HOUR_APPR_PROCESS_START_MIN\": {\"0\": 10.0}, \"APPROVED_HOUR_APPR_PROCESS_START_MAX\": {\"0\": 17.0}, \"APPROVED_HOUR_APPR_PROCESS_START_MEAN\": {\"0\": 12.666666666666666}, \"APPROVED_RATE_DOWN_PAYMENT_MIN\": {\"0\": 0.0}, \"APPROVED_RATE_DOWN_PAYMENT_MAX\": {\"0\": 1.0}, \"APPROVED_RATE_DOWN_PAYMENT_MEAN\": {\"0\": 0.3666701485030867}, \"APPROVED_DAYS_DECISION_MIN\": {\"0\": -2508.0}, \"APPROVED_DAYS_DECISION_MAX\": {\"0\": -1189.0}, \"APPROVED_DAYS_DECISION_MEAN\": {\"0\": -1992.0}, \"APPROVED_CNT_PAYMENT_MEAN\": {\"0\": 14.0}, \"APPROVED_CNT_PAYMENT_SUM\": {\"0\": 42.0}, \"REFUSED_AMT_ANNUITY_MIN\": {\"0\": 1.0}, \"REFUSED_AMT_ANNUITY_MAX\": {\"0\": 1.0}, \"REFUSED_AMT_ANNUITY_MEAN\": {\"0\": 1.0}, \"REFUSED_AMT_APPLICATION_MIN\": {\"0\": 0.0}, \"REFUSED_AMT_APPLICATION_MAX\": {\"0\": 0.0}, \"REFUSED_AMT_APPLICATION_MEAN\": {\"0\": 0.0}, \"REFUSED_AMT_CREDIT_MIN\": {\"0\": 0.0}, \"REFUSED_AMT_CREDIT_MAX\": {\"0\": 0.0}, \"REFUSED_AMT_CREDIT_MEAN\": {\"0\": 0.0}, \"REFUSED_APP_CREDIT_PERC_MIN\": {\"0\": 1.0}, \"REFUSED_APP_CREDIT_PERC_MAX\": {\"0\": 1.0}, \"REFUSED_APP_CREDIT_PERC_MEAN\": {\"0\": 1.0}, \"REFUSED_APP_CREDIT_PERC_VAR\": {\"0\": 1.0}, \"REFUSED_AMT_DOWN_PAYMENT_MIN\": {\"0\": 1.0}, \"REFUSED_AMT_DOWN_PAYMENT_MAX\": {\"0\": 1.0}, \"REFUSED_AMT_DOWN_PAYMENT_MEAN\": {\"0\": 1.0}, \"REFUSED_AMT_GOODS_PRICE_MIN\": {\"0\": 0.0}, \"REFUSED_AMT_GOODS_PRICE_MAX\": {\"0\": 0.0}, \"REFUSED_AMT_GOODS_PRICE_MEAN\": {\"0\": 0.0}, \"REFUSED_HOUR_APPR_PROCESS_START_MIN\": {\"0\": 9.0}, \"REFUSED_HOUR_APPR_PROCESS_START_MAX\": {\"0\": 9.0}, \"REFUSED_HOUR_APPR_PROCESS_START_MEAN\": {\"0\": 9.0}, \"REFUSED_RATE_DOWN_PAYMENT_MIN\": {\"0\": 1.0}, \"REFUSED_RATE_DOWN_PAYMENT_MAX\": {\"0\": 1.0}, \"REFUSED_RATE_DOWN_PAYMENT_MEAN\": {\"0\": 1.0}, \"REFUSED_DAYS_DECISION_MIN\": {\"0\": -1162.0}, \"REFUSED_DAYS_DECISION_MAX\": {\"0\": -1162.0}, \"REFUSED_DAYS_DECISION_MEAN\": {\"0\": -1162.0}, \"REFUSED_CNT_PAYMENT_MEAN\": {\"0\": 1.0}, \"REFUSED_CNT_PAYMENT_SUM\": {\"0\": 1.0}, \"POS_MONTHS_BALANCE_MAX\": {\"0\": -10.0}, \"POS_MONTHS_BALANCE_MEAN\": {\"0\": -46.4}, \"POS_MONTHS_BALANCE_SIZE\": {\"0\": 75.0}, \"POS_SK_DPD_MAX\": {\"0\": 952.0}, \"POS_SK_DPD_MEAN\": {\"0\": 205.66666666666663}, \"POS_SK_DPD_DEF_MAX\": {\"0\": 9.0}, \"POS_SK_DPD_DEF_MEAN\": {\"0\": 0.3466666666666667}, \"POS_NAME_CONTRACT_STATUS_Active_MEAN\": {\"0\": 0.9733333333333334}, \"POS_NAME_CONTRACT_STATUS_Amortized debt_MEAN\": {\"0\": 0.0}, \"POS_NAME_CONTRACT_STATUS_Approved_MEAN\": {\"0\": 0.0}, \"POS_NAME_CONTRACT_STATUS_Canceled_MEAN\": {\"0\": 0.0}, \"POS_NAME_CONTRACT_STATUS_Completed_MEAN\": {\"0\": 0.0266666666666666}, \"POS_NAME_CONTRACT_STATUS_Demand_MEAN\": {\"0\": 0.0}, \"POS_NAME_CONTRACT_STATUS_Returned to the store_MEAN\": {\"0\": 0.0}, \"POS_NAME_CONTRACT_STATUS_Signed_MEAN\": {\"0\": 0.0}, \"POS_NAME_CONTRACT_STATUS_XNA_MEAN\": {\"0\": 0.0}, \"POS_NAME_CONTRACT_STATUS_nan_MEAN\": {\"0\": 0.0}, \"POS_COUNT\": {\"0\": 75.0}, \"INSTAL_NUM_INSTALMENT_VERSION_NUNIQUE\": {\"0\": 2.0}, \"INSTAL_DPD_MAX\": {\"0\": 958.0}, \"INSTAL_DPD_MEAN\": {\"0\": 7.946153846153846}, \"INSTAL_DPD_SUM\": {\"0\": 1033.0}, \"INSTAL_DBD_MAX\": {\"0\": 32.0}, \"INSTAL_DBD_MEAN\": {\"0\": 4.807692307692308}, \"INSTAL_DBD_SUM\": {\"0\": 625.0}, \"INSTAL_PAYMENT_PERC_MAX\": {\"0\": 1.0}, \"INSTAL_PAYMENT_PERC_MEAN\": {\"0\": 0.9076923076923076}, \"INSTAL_PAYMENT_PERC_SUM\": {\"0\": 118.0}, \"INSTAL_PAYMENT_PERC_VAR\": {\"0\": 0.0638414375223197}, \"INSTAL_PAYMENT_DIFF_MAX\": {\"0\": 30833.685}, \"INSTAL_PAYMENT_DIFF_MEAN\": {\"0\": 2246.821961538461}, \"INSTAL_PAYMENT_DIFF_SUM\": {\"0\": 292086.855}, \"INSTAL_PAYMENT_DIFF_VAR\": {\"0\": 47524098.85713626}, \"INSTAL_AMT_INSTALMENT_MAX\": {\"0\": 46485.0}, \"INSTAL_AMT_INSTALMENT_MEAN\": {\"0\": 13575.715615384615}, \"INSTAL_AMT_INSTALMENT_SUM\": {\"0\": 1764843.03}, \"INSTAL_AMT_PAYMENT_MIN\": {\"0\": 449.685}, \"INSTAL_AMT_PAYMENT_MAX\": {\"0\": 46485.0}, \"INSTAL_AMT_PAYMENT_MEAN\": {\"0\": 11328.893653846157}, \"INSTAL_AMT_PAYMENT_SUM\": {\"0\": 1472756.175}, \"INSTAL_DAYS_ENTRY_PAYMENT_MAX\": {\"0\": -37.0}, \"INSTAL_DAYS_ENTRY_PAYMENT_MEAN\": {\"0\": -1150.923076923077}, \"INSTAL_DAYS_ENTRY_PAYMENT_SUM\": {\"0\": -149620.0}, \"INSTAL_COUNT\": {\"0\": 130.0}, \"CC_MONTHS_BALANCE_MIN\": {\"0\": -75.0}, \"CC_MONTHS_BALANCE_MAX\": {\"0\": -2.0}, \"CC_MONTHS_BALANCE_MEAN\": {\"0\": -38.5}, \"CC_MONTHS_BALANCE_SUM\": {\"0\": -2849.0}, \"CC_MONTHS_BALANCE_VAR\": {\"0\": 462.4999999999999}, \"CC_AMT_BALANCE_MIN\": {\"0\": 0.0}, \"CC_AMT_BALANCE_MAX\": {\"0\": 189000.0}, \"CC_AMT_BALANCE_MEAN\": {\"0\": 54482.11114864865}, \"CC_AMT_BALANCE_SUM\": {\"0\": 4031676.225}, \"CC_AMT_BALANCE_VAR\": {\"0\": 4641320594.329114}, \"CC_AMT_CREDIT_LIMIT_ACTUAL_MIN\": {\"0\": 90000.0}, \"CC_AMT_CREDIT_LIMIT_ACTUAL_MAX\": {\"0\": 180000.0}, \"CC_AMT_CREDIT_LIMIT_ACTUAL_MEAN\": {\"0\": 164189.1891891892}, \"CC_AMT_CREDIT_LIMIT_ACTUAL_SUM\": {\"0\": 12150000.0}, \"CC_AMT_CREDIT_LIMIT_ACTUAL_VAR\": {\"0\": 1189059607.5527587}, \"CC_AMT_DRAWINGS_ATM_CURRENT_MIN\": {\"0\": 0.0}, \"CC_AMT_DRAWINGS_ATM_CURRENT_MAX\": {\"0\": 180000.0}, \"CC_AMT_DRAWINGS_ATM_CURRENT_MEAN\": {\"0\": 2432.4324324324325}, \"CC_AMT_DRAWINGS_ATM_CURRENT_SUM\": {\"0\": 180000.0}, \"CC_AMT_DRAWINGS_ATM_CURRENT_VAR\": {\"0\": 437837837.8378379}, \"CC_AMT_DRAWINGS_CURRENT_MIN\": {\"0\": 0.0}, \"CC_AMT_DRAWINGS_CURRENT_MAX\": {\"0\": 180000.0}, \"CC_AMT_DRAWINGS_CURRENT_MEAN\": {\"0\": 2432.4324324324325}, \"CC_AMT_DRAWINGS_CURRENT_SUM\": {\"0\": 180000.0}, \"CC_AMT_DRAWINGS_CURRENT_VAR\": {\"0\": 437837837.8378379}, \"CC_AMT_DRAWINGS_OTHER_CURRENT_MIN\": {\"0\": 0.0}, \"CC_AMT_DRAWINGS_OTHER_CURRENT_MAX\": {\"0\": 0.0}, \"CC_AMT_DRAWINGS_OTHER_CURRENT_MEAN\": {\"0\": 0.0}, \"CC_AMT_DRAWINGS_OTHER_CURRENT_SUM\": {\"0\": 0.0}, \"CC_AMT_DRAWINGS_OTHER_CURRENT_VAR\": {\"0\": 0.0}, \"CC_AMT_DRAWINGS_POS_CURRENT_MIN\": {\"0\": 0.0}, \"CC_AMT_DRAWINGS_POS_CURRENT_MAX\": {\"0\": 0.0}, \"CC_AMT_DRAWINGS_POS_CURRENT_MEAN\": {\"0\": 0.0}, \"CC_AMT_DRAWINGS_POS_CURRENT_SUM\": {\"0\": 0.0}, \"CC_AMT_DRAWINGS_POS_CURRENT_VAR\": {\"0\": 0.0}, \"CC_AMT_INST_MIN_REGULARITY_MIN\": {\"0\": 0.0}, \"CC_AMT_INST_MIN_REGULARITY_MAX\": {\"0\": 9000.0}, \"CC_AMT_INST_MIN_REGULARITY_MEAN\": {\"0\": 3902.7729054054057}, \"CC_AMT_INST_MIN_REGULARITY_SUM\": {\"0\": 288805.195}, \"CC_AMT_INST_MIN_REGULARITY_VAR\": {\"0\": 20075419.73440685}, \"CC_AMT_PAYMENT_CURRENT_MIN\": {\"0\": 0.0}, \"CC_AMT_PAYMENT_CURRENT_MAX\": {\"0\": 55485.0}, \"CC_AMT_PAYMENT_CURRENT_MEAN\": {\"0\": 4843.064189189189}, \"CC_AMT_PAYMENT_CURRENT_SUM\": {\"0\": 358386.75}, \"CC_AMT_PAYMENT_CURRENT_VAR\": {\"0\": 52992604.62244661}, \"CC_AMT_PAYMENT_TOTAL_CURRENT_MIN\": {\"0\": 0.0}, \"CC_AMT_PAYMENT_TOTAL_CURRENT_MAX\": {\"0\": 55485.0}, \"CC_AMT_PAYMENT_TOTAL_CURRENT_MEAN\": {\"0\": 4520.067567567568}, \"CC_AMT_PAYMENT_TOTAL_CURRENT_SUM\": {\"0\": 334485.0}, \"CC_AMT_PAYMENT_TOTAL_CURRENT_VAR\": {\"0\": 55858772.94057756}, \"CC_AMT_RECEIVABLE_PRINCIPAL_MIN\": {\"0\": 0.0}, \"CC_AMT_RECEIVABLE_PRINCIPAL_MAX\": {\"0\": 180000.0}, \"CC_AMT_RECEIVABLE_PRINCIPAL_MEAN\": {\"0\": 52402.08891891892}, \"CC_AMT_RECEIVABLE_PRINCIPAL_SUM\": {\"0\": 3877754.58}, \"CC_AMT_RECEIVABLE_PRINCIPAL_VAR\": {\"0\": 4324222845.490875}, \"CC_AMT_RECIVABLE_MIN\": {\"0\": -563.355}, \"CC_AMT_RECIVABLE_MAX\": {\"0\": 189000.0}, \"CC_AMT_RECIVABLE_MEAN\": {\"0\": 54433.17912162162}, \"CC_AMT_RECIVABLE_SUM\": {\"0\": 4028055.255}, \"CC_AMT_RECIVABLE_VAR\": {\"0\": 4646735924.648183}, \"CC_AMT_TOTAL_RECEIVABLE_MIN\": {\"0\": -563.355}, \"CC_AMT_TOTAL_RECEIVABLE_MAX\": {\"0\": 189000.0}, \"CC_AMT_TOTAL_RECEIVABLE_MEAN\": {\"0\": 54433.17912162162}, \"CC_AMT_TOTAL_RECEIVABLE_SUM\": {\"0\": 4028055.255}, \"CC_AMT_TOTAL_RECEIVABLE_VAR\": {\"0\": 4646735924.648183}, \"CC_CNT_DRAWINGS_ATM_CURRENT_MIN\": {\"0\": 0.0}, \"CC_CNT_DRAWINGS_ATM_CURRENT_MAX\": {\"0\": 4.0}, \"CC_CNT_DRAWINGS_ATM_CURRENT_MEAN\": {\"0\": 0.054054054054054}, \"CC_CNT_DRAWINGS_ATM_CURRENT_SUM\": {\"0\": 4.0}, \"CC_CNT_DRAWINGS_ATM_CURRENT_VAR\": {\"0\": 0.2162162162162162}, \"CC_CNT_DRAWINGS_CURRENT_MIN\": {\"0\": 0.0}, \"CC_CNT_DRAWINGS_CURRENT_MAX\": {\"0\": 4.0}, \"CC_CNT_DRAWINGS_CURRENT_MEAN\": {\"0\": 0.054054054054054}, \"CC_CNT_DRAWINGS_CURRENT_SUM\": {\"0\": 4.0}, \"CC_CNT_DRAWINGS_CURRENT_VAR\": {\"0\": 0.2162162162162162}, \"CC_CNT_DRAWINGS_OTHER_CURRENT_MIN\": {\"0\": 0.0}, \"CC_CNT_DRAWINGS_OTHER_CURRENT_MAX\": {\"0\": 0.0}, \"CC_CNT_DRAWINGS_OTHER_CURRENT_MEAN\": {\"0\": 0.0}, \"CC_CNT_DRAWINGS_OTHER_CURRENT_SUM\": {\"0\": 0.0}, \"CC_CNT_DRAWINGS_OTHER_CURRENT_VAR\": {\"0\": 0.0}, \"CC_CNT_DRAWINGS_POS_CURRENT_MIN\": {\"0\": 0.0}, \"CC_CNT_DRAWINGS_POS_CURRENT_MAX\": {\"0\": 0.0}, \"CC_CNT_DRAWINGS_POS_CURRENT_MEAN\": {\"0\": 0.0}, \"CC_CNT_DRAWINGS_POS_CURRENT_SUM\": {\"0\": 0.0}, \"CC_CNT_DRAWINGS_POS_CURRENT_VAR\": {\"0\": 0.0}, \"CC_CNT_INSTALMENT_MATURE_CUM_MIN\": {\"0\": 1.0}, \"CC_CNT_INSTALMENT_MATURE_CUM_MAX\": {\"0\": 33.0}, \"CC_CNT_INSTALMENT_MATURE_CUM_MEAN\": {\"0\": 25.43243243243243}, \"CC_CNT_INSTALMENT_MATURE_CUM_SUM\": {\"0\": 1882.0}, \"CC_CNT_INSTALMENT_MATURE_CUM_VAR\": {\"0\": 112.68715290633098}, \"CC_SK_DPD_MIN\": {\"0\": 0.0}, \"CC_SK_DPD_MAX\": {\"0\": 0.0}, \"CC_SK_DPD_MEAN\": {\"0\": 0.0}, \"CC_SK_DPD_SUM\": {\"0\": 0.0}, \"CC_SK_DPD_VAR\": {\"0\": 0.0}, \"CC_SK_DPD_DEF_MIN\": {\"0\": 0.0}, \"CC_SK_DPD_DEF_MAX\": {\"0\": 0.0}, \"CC_SK_DPD_DEF_MEAN\": {\"0\": 0.0}, \"CC_SK_DPD_DEF_SUM\": {\"0\": 0.0}, \"CC_SK_DPD_DEF_VAR\": {\"0\": 0.0}, \"CC_NAME_CONTRACT_STATUS_Active_MIN\": {\"0\": 1.0}, \"CC_NAME_CONTRACT_STATUS_Active_MAX\": {\"0\": 1.0}, \"CC_NAME_CONTRACT_STATUS_Active_MEAN\": {\"0\": 1.0}, \"CC_NAME_CONTRACT_STATUS_Active_SUM\": {\"0\": 74.0}, \"CC_NAME_CONTRACT_STATUS_Active_VAR\": {\"0\": 0.0}, \"CC_NAME_CONTRACT_STATUS_Approved_MIN\": {\"0\": 0.0}, \"CC_NAME_CONTRACT_STATUS_Approved_MAX\": {\"0\": 0.0}, \"CC_NAME_CONTRACT_STATUS_Approved_MEAN\": {\"0\": 0.0}, \"CC_NAME_CONTRACT_STATUS_Approved_SUM\": {\"0\": 0.0}, \"CC_NAME_CONTRACT_STATUS_Approved_VAR\": {\"0\": 0.0}, \"CC_NAME_CONTRACT_STATUS_Completed_MIN\": {\"0\": 0.0}, \"CC_NAME_CONTRACT_STATUS_Completed_MAX\": {\"0\": 0.0}, \"CC_NAME_CONTRACT_STATUS_Completed_MEAN\": {\"0\": 0.0}, \"CC_NAME_CONTRACT_STATUS_Completed_SUM\": {\"0\": 0.0}, \"CC_NAME_CONTRACT_STATUS_Completed_VAR\": {\"0\": 0.0}, \"CC_NAME_CONTRACT_STATUS_Demand_MIN\": {\"0\": 0.0}, \"CC_NAME_CONTRACT_STATUS_Demand_MAX\": {\"0\": 0.0}, \"CC_NAME_CONTRACT_STATUS_Demand_MEAN\": {\"0\": 0.0}, \"CC_NAME_CONTRACT_STATUS_Demand_SUM\": {\"0\": 0.0}, \"CC_NAME_CONTRACT_STATUS_Demand_VAR\": {\"0\": 0.0}, \"CC_NAME_CONTRACT_STATUS_Refused_MIN\": {\"0\": 0.0}, \"CC_NAME_CONTRACT_STATUS_Refused_MAX\": {\"0\": 0.0}, \"CC_NAME_CONTRACT_STATUS_Refused_MEAN\": {\"0\": 0.0}, \"CC_NAME_CONTRACT_STATUS_Refused_SUM\": {\"0\": 0.0}, \"CC_NAME_CONTRACT_STATUS_Refused_VAR\": {\"0\": 0.0}, \"CC_NAME_CONTRACT_STATUS_Sent proposal_MIN\": {\"0\": 0.0}, \"CC_NAME_CONTRACT_STATUS_Sent proposal_MAX\": {\"0\": 0.0}, \"CC_NAME_CONTRACT_STATUS_Sent proposal_MEAN\": {\"0\": 0.0}, \"CC_NAME_CONTRACT_STATUS_Sent proposal_SUM\": {\"0\": 0.0}, \"CC_NAME_CONTRACT_STATUS_Sent proposal_VAR\": {\"0\": 0.0}, \"CC_NAME_CONTRACT_STATUS_Signed_MIN\": {\"0\": 0.0}, \"CC_NAME_CONTRACT_STATUS_Signed_MAX\": {\"0\": 0.0}, \"CC_NAME_CONTRACT_STATUS_Signed_MEAN\": {\"0\": 0.0}, \"CC_NAME_CONTRACT_STATUS_Signed_SUM\": {\"0\": 0.0}, \"CC_NAME_CONTRACT_STATUS_Signed_VAR\": {\"0\": 0.0}, \"CC_NAME_CONTRACT_STATUS_nan_MIN\": {\"0\": 0.0}, \"CC_NAME_CONTRACT_STATUS_nan_MAX\": {\"0\": 0.0}, \"CC_NAME_CONTRACT_STATUS_nan_MEAN\": {\"0\": 0.0}, \"CC_NAME_CONTRACT_STATUS_nan_SUM\": {\"0\": 0.0}, \"CC_NAME_CONTRACT_STATUS_nan_VAR\": {\"0\": 0.0}, \"CC_COUNT\": {\"0\": 74.0}}'"
      ]
     },
     "execution_count": 5,
     "metadata": {},
     "output_type": "execute_result"
    }
   ],
   "source": [
    "dfclient = df.loc[df['SK_ID_CURR'] == 100011]\n",
    "data=json.dumps(dfclient.to_dict())\n",
    "data"
   ]
  },
  {
   "cell_type": "code",
   "execution_count": null,
   "id": "b79dedbe",
   "metadata": {},
   "outputs": [],
   "source": [
    "#numpy_2d_arrays = np.array(dict[\"data\"])\n",
    "X = np.array(data)\n",
    "X"
   ]
  },
  {
   "cell_type": "code",
   "execution_count": null,
   "id": "7cfe9c1d",
   "metadata": {},
   "outputs": [],
   "source": [
    "#data= json.loads(data)\n",
    "#df2 = pd.DataFrame.from_dict(data)\n",
    "\n",
    "from pandas import json_normalize\n",
    "df2 = json_normalize(data)"
   ]
  },
  {
   "cell_type": "code",
   "execution_count": 12,
   "id": "af236aba",
   "metadata": {},
   "outputs": [],
   "source": [
    "request = requests.post(\n",
    "    # url de FastAPI qui execute myapp.py\n",
    "    url=\"http://127.0.0.1:8000/score_pret\",\n",
    "    #\n",
    "    data=json.dumps(dfclient.iloc[0].to_dict()),\n",
    "    headers={\n",
    "        \"Content-Type\": \"application/json\",\n",
    "    },\n",
    ")"
   ]
  },
  {
   "cell_type": "code",
   "execution_count": 13,
   "id": "3b98a993",
   "metadata": {},
   "outputs": [
    {
     "data": {
      "text/plain": [
       "{'detail': 'Not Found'}"
      ]
     },
     "execution_count": 13,
     "metadata": {},
     "output_type": "execute_result"
    }
   ],
   "source": [
    "request.json()"
   ]
  },
  {
   "cell_type": "code",
   "execution_count": null,
   "id": "3c7786b9",
   "metadata": {},
   "outputs": [],
   "source": [
    "# Code de Tristan"
   ]
  },
  {
   "cell_type": "code",
   "execution_count": 10,
   "id": "cf1456a2",
   "metadata": {},
   "outputs": [],
   "source": [
    "# url de FastAPI qui execute myapp.py\n",
    "request = requests.get(\n",
    "    url=\"http://127.0.0.1:8000/exemple\",\n",
    "    headers={\n",
    "        \"Content-Type\": \"application/json\",\n",
    "    },\n",
    ")"
   ]
  },
  {
   "cell_type": "code",
   "execution_count": 11,
   "id": "d80ce01d",
   "metadata": {},
   "outputs": [
    {
     "data": {
      "text/plain": [
       "{'resultat': 0.8}"
      ]
     },
     "execution_count": 11,
     "metadata": {},
     "output_type": "execute_result"
    }
   ],
   "source": [
    "request.json()"
   ]
  },
  {
   "cell_type": "code",
   "execution_count": 8,
   "id": "3bbb0c08",
   "metadata": {},
   "outputs": [
    {
     "data": {
      "text/html": [
       "<div>\n",
       "<style scoped>\n",
       "    .dataframe tbody tr th:only-of-type {\n",
       "        vertical-align: middle;\n",
       "    }\n",
       "\n",
       "    .dataframe tbody tr th {\n",
       "        vertical-align: top;\n",
       "    }\n",
       "\n",
       "    .dataframe thead th {\n",
       "        text-align: right;\n",
       "    }\n",
       "</style>\n",
       "<table border=\"1\" class=\"dataframe\">\n",
       "  <thead>\n",
       "    <tr style=\"text-align: right;\">\n",
       "      <th></th>\n",
       "      <th>var1</th>\n",
       "      <th>var2</th>\n",
       "    </tr>\n",
       "  </thead>\n",
       "  <tbody>\n",
       "    <tr>\n",
       "      <th>0</th>\n",
       "      <td>3</td>\n",
       "      <td>2</td>\n",
       "    </tr>\n",
       "  </tbody>\n",
       "</table>\n",
       "</div>"
      ],
      "text/plain": [
       "   var1  var2\n",
       "0     3     2"
      ]
     },
     "execution_count": 8,
     "metadata": {},
     "output_type": "execute_result"
    }
   ],
   "source": [
    "df = pd.DataFrame([[3, 2]], columns=['var1', 'var2'])\n",
    "df"
   ]
  },
  {
   "cell_type": "code",
   "execution_count": 9,
   "id": "7da81090",
   "metadata": {},
   "outputs": [
    {
     "ename": "NameError",
     "evalue": "name 'clientID' is not defined",
     "output_type": "error",
     "traceback": [
      "\u001b[0;31m---------------------------------------------------------------------------\u001b[0m",
      "\u001b[0;31mNameError\u001b[0m                                 Traceback (most recent call last)",
      "Cell \u001b[0;32mIn[9], line 5\u001b[0m\n\u001b[1;32m      1\u001b[0m request \u001b[38;5;241m=\u001b[39m requests\u001b[38;5;241m.\u001b[39mpost(\n\u001b[1;32m      2\u001b[0m     \u001b[38;5;66;03m# url de FastAPI qui execute myapp.py\u001b[39;00m\n\u001b[1;32m      3\u001b[0m     url\u001b[38;5;241m=\u001b[39m\u001b[38;5;124m\"\u001b[39m\u001b[38;5;124mhttp://127.0.0.1:8000/exemple_post\u001b[39m\u001b[38;5;124m\"\u001b[39m,\n\u001b[1;32m      4\u001b[0m     \u001b[38;5;66;03m#\u001b[39;00m\n\u001b[0;32m----> 5\u001b[0m     data\u001b[38;5;241m=\u001b[39mjson\u001b[38;5;241m.\u001b[39mdumps(\u001b[43mclientID\u001b[49m\u001b[38;5;241m.\u001b[39miloc[\u001b[38;5;241m0\u001b[39m]\u001b[38;5;241m.\u001b[39mto_dict()),\n\u001b[1;32m      6\u001b[0m     headers\u001b[38;5;241m=\u001b[39m{\n\u001b[1;32m      7\u001b[0m         \u001b[38;5;124m\"\u001b[39m\u001b[38;5;124mContent-Type\u001b[39m\u001b[38;5;124m\"\u001b[39m: \u001b[38;5;124m\"\u001b[39m\u001b[38;5;124mapplication/json\u001b[39m\u001b[38;5;124m\"\u001b[39m,\n\u001b[1;32m      8\u001b[0m     },\n\u001b[1;32m      9\u001b[0m )\n",
      "\u001b[0;31mNameError\u001b[0m: name 'clientID' is not defined"
     ]
    }
   ],
   "source": [
    "request = requests.post(\n",
    "    # url de FastAPI qui execute myapp.py\n",
    "    url=\"http://127.0.0.1:8000/exemple_post\",\n",
    "    #\n",
    "    data=json.dumps(clientID.iloc[0].to_dict()),\n",
    "    headers={\n",
    "        \"Content-Type\": \"application/json\",\n",
    "    },\n",
    ")"
   ]
  },
  {
   "cell_type": "code",
   "execution_count": null,
   "id": "8b056fd6",
   "metadata": {},
   "outputs": [],
   "source": [
    "request.json()"
   ]
  },
  {
   "cell_type": "code",
   "execution_count": 3,
   "id": "04af5449",
   "metadata": {},
   "outputs": [],
   "source": [
    "from lime import lime_tabular\n",
    "dfclient = df.loc[df['SK_ID_CURR'] == 263934]\n",
    "feats = [f for f in df.columns if f not in ['TARGET','SK_ID_CURR','SK_ID_BUREAU','SK_ID_PREV']]\n",
    "dfclient = dfclient.drop(columns =['TARGET','SK_ID_CURR'])  "
   ]
  },
  {
   "cell_type": "code",
   "execution_count": 11,
   "id": "6d47f8b5",
   "metadata": {},
   "outputs": [],
   "source": [
    "import pickle\n",
    "model = pickle.load(open('model.pkl', 'rb'))"
   ]
  },
  {
   "cell_type": "code",
   "execution_count": 18,
   "id": "20854d3e",
   "metadata": {},
   "outputs": [
    {
     "data": {
      "text/plain": [
       "array([[1, 0, 0, ..., 0.0, 0.0, 12.0],\n",
       "       [1, 0, 1, ..., 0.0, 0.0, 90.0],\n",
       "       [1, 0, 0, ..., 0.0, 0.0, 12.0],\n",
       "       ...,\n",
       "       [0, 1, 1, ..., 0.0, 0.0, 10.0],\n",
       "       [1, 1, 0, ..., 0.0, 0.0, 15.0],\n",
       "       [1, 0, 1, ..., 0.0, 0.0, 14.0]], dtype=object)"
      ]
     },
     "execution_count": 18,
     "metadata": {},
     "output_type": "execute_result"
    }
   ],
   "source": [
    "#X = dfclient[feats].values\n",
    "X = df[feats].values\n",
    "X"
   ]
  },
  {
   "cell_type": "code",
   "execution_count": 22,
   "id": "8eaf1272",
   "metadata": {},
   "outputs": [
    {
     "data": {
      "text/plain": [
       "dtype('O')"
      ]
     },
     "execution_count": 22,
     "metadata": {},
     "output_type": "execute_result"
    }
   ],
   "source": [
    "X[idx].dtype"
   ]
  },
  {
   "cell_type": "code",
   "execution_count": 19,
   "id": "f34ed2ae",
   "metadata": {},
   "outputs": [
    {
     "ename": "ValueError",
     "evalue": "could not broadcast input array from shape (803,) into shape (1,)",
     "output_type": "error",
     "traceback": [
      "\u001b[0;31m---------------------------------------------------------------------------\u001b[0m",
      "\u001b[0;31mValueError\u001b[0m                                Traceback (most recent call last)",
      "Cell \u001b[0;32mIn[19], line 7\u001b[0m\n\u001b[1;32m      5\u001b[0m \u001b[38;5;66;03m# L'appliquer à la ligne d'index 1\u001b[39;00m\n\u001b[1;32m      6\u001b[0m idx \u001b[38;5;241m=\u001b[39m df\u001b[38;5;241m.\u001b[39mindex[df[\u001b[38;5;124m\"\u001b[39m\u001b[38;5;124mSK_ID_CURR\u001b[39m\u001b[38;5;124m\"\u001b[39m] \u001b[38;5;241m==\u001b[39m \u001b[38;5;241m367366\u001b[39m]\n\u001b[0;32m----> 7\u001b[0m exp \u001b[38;5;241m=\u001b[39m \u001b[43mexplainer\u001b[49m\u001b[38;5;241;43m.\u001b[39;49m\u001b[43mexplain_instance\u001b[49m\u001b[43m(\u001b[49m\u001b[43mX\u001b[49m\u001b[43m[\u001b[49m\u001b[43midx\u001b[49m\u001b[43m]\u001b[49m\u001b[43m,\u001b[49m\u001b[43m \u001b[49m\u001b[43mmodel\u001b[49m\u001b[38;5;241;43m.\u001b[39;49m\u001b[43mpredict_proba\u001b[49m\u001b[43m)\u001b[49m\n\u001b[1;32m      8\u001b[0m \u001b[38;5;66;03m# imprimer les 5 principaux features\u001b[39;00m\n\u001b[1;32m      9\u001b[0m \u001b[38;5;28;01mfor\u001b[39;00m i \u001b[38;5;129;01min\u001b[39;00m \u001b[38;5;28mrange\u001b[39m(\u001b[38;5;241m5\u001b[39m):\n",
      "File \u001b[0;32m~/opt/anaconda3/lib/python3.9/site-packages/lime/lime_tabular.py:340\u001b[0m, in \u001b[0;36mLimeTabularExplainer.explain_instance\u001b[0;34m(self, data_row, predict_fn, labels, top_labels, num_features, num_samples, distance_metric, model_regressor)\u001b[0m\n\u001b[1;32m    337\u001b[0m \u001b[38;5;28;01mif\u001b[39;00m sp\u001b[38;5;241m.\u001b[39msparse\u001b[38;5;241m.\u001b[39missparse(data_row) \u001b[38;5;129;01mand\u001b[39;00m \u001b[38;5;129;01mnot\u001b[39;00m sp\u001b[38;5;241m.\u001b[39msparse\u001b[38;5;241m.\u001b[39misspmatrix_csr(data_row):\n\u001b[1;32m    338\u001b[0m     \u001b[38;5;66;03m# Preventative code: if sparse, convert to csr format if not in csr format already\u001b[39;00m\n\u001b[1;32m    339\u001b[0m     data_row \u001b[38;5;241m=\u001b[39m data_row\u001b[38;5;241m.\u001b[39mtocsr()\n\u001b[0;32m--> 340\u001b[0m data, inverse \u001b[38;5;241m=\u001b[39m \u001b[38;5;28;43mself\u001b[39;49m\u001b[38;5;241;43m.\u001b[39;49m\u001b[43m__data_inverse\u001b[49m\u001b[43m(\u001b[49m\u001b[43mdata_row\u001b[49m\u001b[43m,\u001b[49m\u001b[43m \u001b[49m\u001b[43mnum_samples\u001b[49m\u001b[43m)\u001b[49m\n\u001b[1;32m    341\u001b[0m \u001b[38;5;28;01mif\u001b[39;00m sp\u001b[38;5;241m.\u001b[39msparse\u001b[38;5;241m.\u001b[39missparse(data):\n\u001b[1;32m    342\u001b[0m     \u001b[38;5;66;03m# Note in sparse case we don't subtract mean since data would become dense\u001b[39;00m\n\u001b[1;32m    343\u001b[0m     scaled_data \u001b[38;5;241m=\u001b[39m data\u001b[38;5;241m.\u001b[39mmultiply(\u001b[38;5;28mself\u001b[39m\u001b[38;5;241m.\u001b[39mscaler\u001b[38;5;241m.\u001b[39mscale_)\n",
      "File \u001b[0;32m~/opt/anaconda3/lib/python3.9/site-packages/lime/lime_tabular.py:537\u001b[0m, in \u001b[0;36mLimeTabularExplainer.__data_inverse\u001b[0;34m(self, data_row, num_samples)\u001b[0m\n\u001b[1;32m    535\u001b[0m \u001b[38;5;28;01melse\u001b[39;00m:\n\u001b[1;32m    536\u001b[0m     first_row \u001b[38;5;241m=\u001b[39m \u001b[38;5;28mself\u001b[39m\u001b[38;5;241m.\u001b[39mdiscretizer\u001b[38;5;241m.\u001b[39mdiscretize(data_row)\n\u001b[0;32m--> 537\u001b[0m \u001b[43mdata\u001b[49m\u001b[43m[\u001b[49m\u001b[38;5;241;43m0\u001b[39;49m\u001b[43m]\u001b[49m \u001b[38;5;241m=\u001b[39m data_row\u001b[38;5;241m.\u001b[39mcopy()\n\u001b[1;32m    538\u001b[0m inverse \u001b[38;5;241m=\u001b[39m data\u001b[38;5;241m.\u001b[39mcopy()\n\u001b[1;32m    539\u001b[0m \u001b[38;5;28;01mfor\u001b[39;00m column \u001b[38;5;129;01min\u001b[39;00m categorical_features:\n",
      "\u001b[0;31mValueError\u001b[0m: could not broadcast input array from shape (803,) into shape (1,)"
     ]
    }
   ],
   "source": [
    "# Définir l'explainer\n",
    "explainer = lime_tabular.LimeTabularExplainer(X, mode=\"classification\",\n",
    "                                              feature_names=feats)\n",
    "\n",
    "# L'appliquer à la ligne d'index 1\n",
    "idx = df.index[df[\"SK_ID_CURR\"] == 367366]\n",
    "exp = explainer.explain_instance(X[idx], model.predict_proba)\n",
    "# imprimer les 5 principaux features\n",
    "for i in range(5):\n",
    "    print(f\"{exp.as_list()[i][0]}: {exp.as_list()[i][1]:.2f}\")"
   ]
  },
  {
   "cell_type": "code",
   "execution_count": null,
   "id": "c0cd8b9c",
   "metadata": {},
   "outputs": [],
   "source": []
  }
 ],
 "metadata": {
  "kernelspec": {
   "display_name": "Python 3 (ipykernel)",
   "language": "python",
   "name": "python3"
  },
  "language_info": {
   "codemirror_mode": {
    "name": "ipython",
    "version": 3
   },
   "file_extension": ".py",
   "mimetype": "text/x-python",
   "name": "python",
   "nbconvert_exporter": "python",
   "pygments_lexer": "ipython3",
   "version": "3.9.7"
  },
  "varInspector": {
   "cols": {
    "lenName": 16,
    "lenType": 16,
    "lenVar": 40
   },
   "kernels_config": {
    "python": {
     "delete_cmd_postfix": "",
     "delete_cmd_prefix": "del ",
     "library": "var_list.py",
     "varRefreshCmd": "print(var_dic_list())"
    },
    "r": {
     "delete_cmd_postfix": ") ",
     "delete_cmd_prefix": "rm(",
     "library": "var_list.r",
     "varRefreshCmd": "cat(var_dic_list()) "
    }
   },
   "types_to_exclude": [
    "module",
    "function",
    "builtin_function_or_method",
    "instance",
    "_Feature"
   ],
   "window_display": false
  }
 },
 "nbformat": 4,
 "nbformat_minor": 5
}
