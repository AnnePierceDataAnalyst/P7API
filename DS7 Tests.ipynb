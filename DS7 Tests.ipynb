{
 "cells": [
  {
   "cell_type": "code",
   "execution_count": 1,
   "id": "8f684d73",
   "metadata": {},
   "outputs": [
    {
     "data": {
      "text/html": [
       "<div>\n",
       "<style scoped>\n",
       "    .dataframe tbody tr th:only-of-type {\n",
       "        vertical-align: middle;\n",
       "    }\n",
       "\n",
       "    .dataframe tbody tr th {\n",
       "        vertical-align: top;\n",
       "    }\n",
       "\n",
       "    .dataframe thead th {\n",
       "        text-align: right;\n",
       "    }\n",
       "</style>\n",
       "<table border=\"1\" class=\"dataframe\">\n",
       "  <thead>\n",
       "    <tr style=\"text-align: right;\">\n",
       "      <th></th>\n",
       "      <th>SK_ID_CURR</th>\n",
       "      <th>TARGET</th>\n",
       "      <th>CODE_GENDER</th>\n",
       "      <th>FLAG_OWN_CAR</th>\n",
       "      <th>FLAG_OWN_REALTY</th>\n",
       "      <th>CNT_CHILDREN</th>\n",
       "      <th>AMT_INCOME_TOTAL</th>\n",
       "      <th>AMT_CREDIT</th>\n",
       "      <th>AMT_ANNUITY</th>\n",
       "      <th>AMT_GOODS_PRICE</th>\n",
       "      <th>...</th>\n",
       "      <th>CC_NAME_CONTRACT_STATUS_Signed_MAX</th>\n",
       "      <th>CC_NAME_CONTRACT_STATUS_Signed_MEAN</th>\n",
       "      <th>CC_NAME_CONTRACT_STATUS_Signed_SUM</th>\n",
       "      <th>CC_NAME_CONTRACT_STATUS_Signed_VAR</th>\n",
       "      <th>CC_NAME_CONTRACT_STATUS_nan_MIN</th>\n",
       "      <th>CC_NAME_CONTRACT_STATUS_nan_MAX</th>\n",
       "      <th>CC_NAME_CONTRACT_STATUS_nan_MEAN</th>\n",
       "      <th>CC_NAME_CONTRACT_STATUS_nan_SUM</th>\n",
       "      <th>CC_NAME_CONTRACT_STATUS_nan_VAR</th>\n",
       "      <th>CC_COUNT</th>\n",
       "    </tr>\n",
       "  </thead>\n",
       "  <tbody>\n",
       "    <tr>\n",
       "      <th>0</th>\n",
       "      <td>263934</td>\n",
       "      <td>1</td>\n",
       "      <td>1</td>\n",
       "      <td>0</td>\n",
       "      <td>0</td>\n",
       "      <td>0</td>\n",
       "      <td>112500.0</td>\n",
       "      <td>270000.0</td>\n",
       "      <td>13500.0</td>\n",
       "      <td>270000.0</td>\n",
       "      <td>...</td>\n",
       "      <td>False</td>\n",
       "      <td>0.0</td>\n",
       "      <td>0.0</td>\n",
       "      <td>0.0</td>\n",
       "      <td>False</td>\n",
       "      <td>False</td>\n",
       "      <td>0.0</td>\n",
       "      <td>0.0</td>\n",
       "      <td>0.0</td>\n",
       "      <td>12.0</td>\n",
       "    </tr>\n",
       "    <tr>\n",
       "      <th>1</th>\n",
       "      <td>367366</td>\n",
       "      <td>0</td>\n",
       "      <td>1</td>\n",
       "      <td>0</td>\n",
       "      <td>1</td>\n",
       "      <td>0</td>\n",
       "      <td>45000.0</td>\n",
       "      <td>177903.0</td>\n",
       "      <td>8685.0</td>\n",
       "      <td>148500.0</td>\n",
       "      <td>...</td>\n",
       "      <td>False</td>\n",
       "      <td>0.0</td>\n",
       "      <td>0.0</td>\n",
       "      <td>0.0</td>\n",
       "      <td>False</td>\n",
       "      <td>False</td>\n",
       "      <td>0.0</td>\n",
       "      <td>0.0</td>\n",
       "      <td>0.0</td>\n",
       "      <td>90.0</td>\n",
       "    </tr>\n",
       "    <tr>\n",
       "      <th>2</th>\n",
       "      <td>434796</td>\n",
       "      <td>0</td>\n",
       "      <td>1</td>\n",
       "      <td>0</td>\n",
       "      <td>0</td>\n",
       "      <td>1</td>\n",
       "      <td>130500.0</td>\n",
       "      <td>153000.0</td>\n",
       "      <td>7812.0</td>\n",
       "      <td>153000.0</td>\n",
       "      <td>...</td>\n",
       "      <td>False</td>\n",
       "      <td>0.0</td>\n",
       "      <td>0.0</td>\n",
       "      <td>0.0</td>\n",
       "      <td>False</td>\n",
       "      <td>False</td>\n",
       "      <td>0.0</td>\n",
       "      <td>0.0</td>\n",
       "      <td>0.0</td>\n",
       "      <td>12.0</td>\n",
       "    </tr>\n",
       "  </tbody>\n",
       "</table>\n",
       "<p>3 rows × 805 columns</p>\n",
       "</div>"
      ],
      "text/plain": [
       "   SK_ID_CURR  TARGET  CODE_GENDER  FLAG_OWN_CAR  FLAG_OWN_REALTY  \\\n",
       "0      263934       1            1             0                0   \n",
       "1      367366       0            1             0                1   \n",
       "2      434796       0            1             0                0   \n",
       "\n",
       "   CNT_CHILDREN  AMT_INCOME_TOTAL  AMT_CREDIT  AMT_ANNUITY  AMT_GOODS_PRICE  \\\n",
       "0             0          112500.0    270000.0      13500.0         270000.0   \n",
       "1             0           45000.0    177903.0       8685.0         148500.0   \n",
       "2             1          130500.0    153000.0       7812.0         153000.0   \n",
       "\n",
       "   ...  CC_NAME_CONTRACT_STATUS_Signed_MAX  \\\n",
       "0  ...                               False   \n",
       "1  ...                               False   \n",
       "2  ...                               False   \n",
       "\n",
       "   CC_NAME_CONTRACT_STATUS_Signed_MEAN  CC_NAME_CONTRACT_STATUS_Signed_SUM  \\\n",
       "0                                  0.0                                 0.0   \n",
       "1                                  0.0                                 0.0   \n",
       "2                                  0.0                                 0.0   \n",
       "\n",
       "   CC_NAME_CONTRACT_STATUS_Signed_VAR  CC_NAME_CONTRACT_STATUS_nan_MIN  \\\n",
       "0                                 0.0                            False   \n",
       "1                                 0.0                            False   \n",
       "2                                 0.0                            False   \n",
       "\n",
       "   CC_NAME_CONTRACT_STATUS_nan_MAX  CC_NAME_CONTRACT_STATUS_nan_MEAN  \\\n",
       "0                            False                               0.0   \n",
       "1                            False                               0.0   \n",
       "2                            False                               0.0   \n",
       "\n",
       "   CC_NAME_CONTRACT_STATUS_nan_SUM  CC_NAME_CONTRACT_STATUS_nan_VAR  CC_COUNT  \n",
       "0                              0.0                              0.0      12.0  \n",
       "1                              0.0                              0.0      90.0  \n",
       "2                              0.0                              0.0      12.0  \n",
       "\n",
       "[3 rows x 805 columns]"
      ]
     },
     "execution_count": 1,
     "metadata": {},
     "output_type": "execute_result"
    }
   ],
   "source": [
    "import pandas as pd\n",
    "import numpy as np\n",
    "#import json\n",
    "#import requests\n",
    "#import pickle\n",
    "df = pd.read_csv('dataReduced2.csv')\n",
    "#df = df0.loc[df0['TARGET']!=2]\n",
    "df.head(3)"
   ]
  },
  {
   "cell_type": "code",
   "execution_count": 25,
   "id": "e4b60f61",
   "metadata": {},
   "outputs": [
    {
     "data": {
      "text/plain": [
       "array([[1, 0, 0, ..., 0.0, 0.0, 12.0],\n",
       "       [1, 0, 1, ..., 0.0, 0.0, 90.0],\n",
       "       [1, 0, 0, ..., 0.0, 0.0, 12.0],\n",
       "       ...,\n",
       "       [0, 1, 1, ..., 0.0, 0.0, 10.0],\n",
       "       [1, 1, 0, ..., 0.0, 0.0, 15.0],\n",
       "       [1, 0, 1, ..., 0.0, 0.0, 14.0]], dtype=object)"
      ]
     },
     "execution_count": 25,
     "metadata": {},
     "output_type": "execute_result"
    }
   ],
   "source": [
    "feats = [f for f in df.columns if f not in ['TARGET','SK_ID_CURR','SK_ID_BUREAU','SK_ID_PREV']]\n",
    "X = df[feats].values \n",
    "X"
   ]
  },
  {
   "cell_type": "code",
   "execution_count": 2,
   "id": "e6c91df5",
   "metadata": {},
   "outputs": [],
   "source": [
    "import pickle\n",
    "#dfclient = df.loc[df['SK_ID_CURR'] == 263934]\n",
    "    \n",
    "model = pickle.load(open('model.pkl', 'rb'))\n",
    "#result = model.predict_proba(X)\n",
    "#result[0]"
   ]
  },
  {
   "cell_type": "code",
   "execution_count": 3,
   "id": "f34ed2ae",
   "metadata": {},
   "outputs": [],
   "source": [
    "from lime import lime_tabular\n",
    "# Définir l'explainer\n",
    "explainer = lime_tabular.LimeTabularExplainer(X, mode=\"classification\",\n",
    "                                              feature_names=feats)\n",
    "\n",
    "# L'appliquer à la ligne d'index 1 (2 minutes?)\n",
    "idx = df.index[df[\"SK_ID_CURR\"] == 263934]\n",
    "exp = explainer.explain_instance(X[idx][0], model.predict_proba)"
   ]
  },
  {
   "cell_type": "code",
   "execution_count": 4,
   "id": "c182abc2",
   "metadata": {},
   "outputs": [
    {
     "name": "stdout",
     "output_type": "stream",
     "text": [
      "PREV_NAME_CONTRACT_TYPE_XNA_MEAN <= 0.00: -0.06\n",
      "ORGANIZATION_TYPE_Trade: type 5 <= 0.00: -0.04\n",
      "PREV_PRODUCT_COMBINATION_1_MEAN <= 0.00: -0.04\n",
      "PREV_NAME_GOODS_CATEGORY_Additional Service_MEAN <= 0.00: 0.04\n",
      "PREV_NAME_GOODS_CATEGORY_Fitness_MEAN <= 0.00: -0.03\n"
     ]
    }
   ],
   "source": [
    "# imprimer les 5 principaux features\n",
    "for i in range(5):\n",
    "    print(f\"{exp.as_list()[i][0]}: {exp.as_list()[i][1]:.2f}\")"
   ]
  },
  {
   "cell_type": "code",
   "execution_count": 5,
   "id": "32a84805",
   "metadata": {},
   "outputs": [
    {
     "data": {
      "text/plain": [
       "['PREV_NAME_CONTRACT_TYPE_XNA_MEAN <= 0.00',\n",
       " 'ORGANIZATION_TYPE_Trade: type 5 <= 0.00',\n",
       " 'PREV_PRODUCT_COMBINATION_1_MEAN <= 0.00',\n",
       " 'PREV_NAME_GOODS_CATEGORY_Additional Service_MEAN <= 0.00',\n",
       " 'PREV_NAME_GOODS_CATEGORY_Fitness_MEAN <= 0.00']"
      ]
     },
     "execution_count": 5,
     "metadata": {},
     "output_type": "execute_result"
    }
   ],
   "source": [
    "# Créer liste de features\n",
    "myfeatures = []\n",
    "for i in range(5):\n",
    "    myfeatures.append (exp.as_list()[i][0])\n",
    "\n",
    "myfeatures"
   ]
  },
  {
   "cell_type": "code",
   "execution_count": 7,
   "id": "ecf591f6",
   "metadata": {},
   "outputs": [
    {
     "data": {
      "text/plain": [
       "array(['PREV_NAME_CONTRACT_TYPE_XNA_MEAN <= 0.00',\n",
       "       'ORGANIZATION_TYPE_Trade: type 5 <= 0.00',\n",
       "       'PREV_PRODUCT_COMBINATION_1_MEAN <= 0.00',\n",
       "       'PREV_NAME_GOODS_CATEGORY_Additional Service_MEAN <= 0.00',\n",
       "       'PREV_NAME_GOODS_CATEGORY_Fitness_MEAN <= 0.00'], dtype='<U56')"
      ]
     },
     "execution_count": 7,
     "metadata": {},
     "output_type": "execute_result"
    }
   ],
   "source": [
    "featuresArray = np.array(myfeatures)\n",
    "featuresArray"
   ]
  },
  {
   "cell_type": "code",
   "execution_count": 8,
   "id": "2ebbf48a",
   "metadata": {},
   "outputs": [
    {
     "data": {
      "text/plain": [
       "[-0.059942048813801045,\n",
       " -0.03893497434245715,\n",
       " -0.03692215848503626,\n",
       " 0.03597015260461706,\n",
       " -0.03469338717515409]"
      ]
     },
     "execution_count": 8,
     "metadata": {},
     "output_type": "execute_result"
    }
   ],
   "source": [
    "# Créer liste d'importances\n",
    "myimportance = []\n",
    "for i in range(5):\n",
    "    myimportance.append (exp.as_list()[i][1])\n",
    "\n",
    "myimportance"
   ]
  },
  {
   "cell_type": "code",
   "execution_count": 9,
   "id": "c83a2850",
   "metadata": {},
   "outputs": [
    {
     "data": {
      "text/plain": [
       "array([-0.05994205, -0.03893497, -0.03692216,  0.03597015, -0.03469339])"
      ]
     },
     "execution_count": 9,
     "metadata": {},
     "output_type": "execute_result"
    }
   ],
   "source": [
    "featuresImportance = np.array(myimportance)\n",
    "featuresImportance"
   ]
  },
  {
   "cell_type": "code",
   "execution_count": 10,
   "id": "371ca867",
   "metadata": {},
   "outputs": [],
   "source": [
    "from matplotlib import pyplot as plt"
   ]
  },
  {
   "cell_type": "code",
   "execution_count": 11,
   "id": "305e26b2",
   "metadata": {},
   "outputs": [
    {
     "data": {
      "text/plain": [
       "<BarContainer object of 5 artists>"
      ]
     },
     "execution_count": 11,
     "metadata": {},
     "output_type": "execute_result"
    },
    {
     "data": {
      "image/png": "[encoded data removed]",
      "text/plain": [
       "<Figure size 640x480 with 1 Axes>"
      ]
     },
     "metadata": {},
     "output_type": "display_data"
    }
   ],
   "source": [
    "plt.barh(myfeatures, myimportance)"
   ]
  },
  {
   "cell_type": "code",
   "execution_count": null,
   "id": "338c96f6",
   "metadata": {},
   "outputs": [],
   "source": [
    "# Serializing json  \n",
    "json_object = json.dump(exp, indent = 4) \n",
    "print(json_object)"
   ]
  },
  {
   "cell_type": "code",
   "execution_count": null,
   "id": "06feef50",
   "metadata": {},
   "outputs": [],
   "source": [
    "with open(\"sample.json\", \"w\") as outfile:\n",
    "    json.dump(exp, outfile)"
   ]
  },
  {
   "cell_type": "raw",
   "id": "9c019948",
   "metadata": {},
   "source": [
    "type(exp)"
   ]
  },
  {
   "cell_type": "raw",
   "id": "654079b2",
   "metadata": {},
   "source": [
    "fig = exp.as_pyplot_figure()\n",
    "fig"
   ]
  },
  {
   "cell_type": "code",
   "execution_count": 12,
   "id": "90d8182e",
   "metadata": {},
   "outputs": [],
   "source": [
    "import requests\n",
    "import json"
   ]
  },
  {
   "cell_type": "code",
   "execution_count": 13,
   "id": "2e457f5c",
   "metadata": {},
   "outputs": [],
   "source": [
    "def request_prediction(idClient) : \n",
    "    request = requests.post(url=\"http://127.0.0.1:8000/prediction\",\n",
    "                        data=json.dumps({'idClient': idClient}),\n",
    "                        headers={\"Content-Type\": \"application/json\"})\n",
    "    \n",
    "    return request.json()"
   ]
  },
  {
   "cell_type": "code",
   "execution_count": 22,
   "id": "e488c2c7",
   "metadata": {},
   "outputs": [],
   "source": [
    "pred = request_prediction(263934)#['resultat']\n",
    "       "
   ]
  },
  {
   "cell_type": "code",
   "execution_count": 24,
   "id": "6b9f2241",
   "metadata": {},
   "outputs": [
    {
     "data": {
      "text/plain": [
       "['ORGANIZATION_TYPE_Mobile <= 0.00',\n",
       " 'CC_NAME_CONTRACT_STATUS_Refused_MAX <= 0.00',\n",
       " 'ORGANIZATION_TYPE_Industry: type 6 <= 0.00',\n",
       " 'CC_NAME_CONTRACT_STATUS_Signed_MIN <= 0.00',\n",
       " 'CC_NAME_CONTRACT_STATUS_Sent proposal_SUM <= 0.00']"
      ]
     },
     "execution_count": 24,
     "metadata": {},
     "output_type": "execute_result"
    }
   ],
   "source": [
    "pred['features']"
   ]
  }
 ],
 "metadata": {
  "kernelspec": {
   "display_name": "Python 3 (ipykernel)",
   "language": "python",
   "name": "python3"
  },
  "language_info": {
   "codemirror_mode": {
    "name": "ipython",
    "version": 3
   },
   "file_extension": ".py",
   "mimetype": "text/x-python",
   "name": "python",
   "nbconvert_exporter": "python",
   "pygments_lexer": "ipython3",
   "version": "3.9.7"
  },
  "varInspector": {
   "cols": {
    "lenName": 16,
    "lenType": 16,
    "lenVar": 40
   },
   "kernels_config": {
    "python": {
     "delete_cmd_postfix": "",
     "delete_cmd_prefix": "del ",
     "library": "var_list.py",
     "varRefreshCmd": "print(var_dic_list())"
    },
    "r": {
     "delete_cmd_postfix": ") ",
     "delete_cmd_prefix": "rm(",
     "library": "var_list.r",
     "varRefreshCmd": "cat(var_dic_list()) "
    }
   },
   "types_to_exclude": [
    "module",
    "function",
    "builtin_function_or_method",
    "instance",
    "_Feature"
   ],
   "window_display": false
  }
 },
 "nbformat": 4,
 "nbformat_minor": 5
}
